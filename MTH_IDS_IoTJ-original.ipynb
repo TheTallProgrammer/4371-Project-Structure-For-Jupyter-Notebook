{
 "cells": [
  {
   "cell_type": "markdown",
   "metadata": {},
   "source": [
    "# MTH-IDS: A Multi-Tiered Hybrid Intrusion Detection System for Internet of Vehicles\n",
    "This is the code for the paper entitled \"[**MTH-IDS: A Multi-Tiered Hybrid Intrusion Detection System for Internet of Vehicles**](https://arxiv.org/pdf/2105.13289.pdf)\" accepted in IEEE Internet of Things Journal.  \n",
    "Authors: Li Yang (liyanghart@gmail.com), Abdallah Moubayed, and Abdallah Shami  \n",
    "Organization: The Optimized Computing and Communications (OC2) Lab, ECE Department, Western University\n",
    "\n",
    "If you find this repository useful in your research, please cite:  \n",
    "L. Yang, A. Moubayed, and A. Shami, “MTH-IDS: A Multi-Tiered Hybrid Intrusion Detection System for Internet of Vehicles,” IEEE Internet of Things Journal, vol. 9, no. 1, pp. 616-632, Jan.1, 2022."
   ]
  },
  {
   "cell_type": "markdown",
   "metadata": {},
   "source": [
    "## Import libraries ----- ADDED SOME IMPORTS 4371 -----"
   ]
  },
  {
   "cell_type": "code",
   "execution_count": 1,
   "metadata": {
    "scrolled": true
   },
   "outputs": [
    {
     "name": "stdout",
     "output_type": "stream",
     "text": [
      "Found existing installation: numpy 1.26.4\n",
      "Uninstalling numpy-1.26.4:\n",
      "  Successfully uninstalled numpy-1.26.4\n"
     ]
    },
    {
     "name": "stderr",
     "output_type": "stream",
     "text": [
      "WARNING: Failed to remove contents in a temporary directory 'C:\\Users\\Logan\\AppData\\Local\\Temp\\pip-uninstall-2u__jdgn'.\n",
      "You can safely remove it manually.\n"
     ]
    },
    {
     "name": "stdout",
     "output_type": "stream",
     "text": [
      "Collecting numpy==1.26.4\n",
      "  Using cached numpy-1.26.4-cp310-cp310-win_amd64.whl.metadata (61 kB)\n",
      "Using cached numpy-1.26.4-cp310-cp310-win_amd64.whl (15.8 MB)\n",
      "Installing collected packages: numpy\n",
      "  Attempting uninstall: numpy\n",
      "    Found existing installation: numpy 2.1.3\n",
      "    Uninstalling numpy-2.1.3:\n",
      "      Successfully uninstalled numpy-2.1.3\n",
      "Successfully installed numpy-1.26.4\n"
     ]
    },
    {
     "name": "stderr",
     "output_type": "stream",
     "text": [
      "  WARNING: Failed to remove contents in a temporary directory 'C:\\Users\\Logan\\anaconda3\\envs\\myenv\\Lib\\site-packages\\~.mpy.libs'.\n",
      "  You can safely remove it manually.\n",
      "  WARNING: Failed to remove contents in a temporary directory 'C:\\Users\\Logan\\anaconda3\\envs\\myenv\\Lib\\site-packages\\~.mpy'.\n",
      "  You can safely remove it manually.\n"
     ]
    },
    {
     "name": "stdout",
     "output_type": "stream",
     "text": [
      "Requirement already satisfied: pandas in c:\\users\\logan\\anaconda3\\envs\\myenv\\lib\\site-packages (2.2.3)\n",
      "Requirement already satisfied: seaborn in c:\\users\\logan\\anaconda3\\envs\\myenv\\lib\\site-packages (0.13.2)\n",
      "Requirement already satisfied: matplotlib in c:\\users\\logan\\anaconda3\\envs\\myenv\\lib\\site-packages (3.9.2)\n",
      "Requirement already satisfied: scipy in c:\\users\\logan\\anaconda3\\envs\\myenv\\lib\\site-packages (1.14.1)\n",
      "Requirement already satisfied: numpy>=1.22.4 in c:\\users\\logan\\anaconda3\\envs\\myenv\\lib\\site-packages (from pandas) (1.26.4)\n",
      "Requirement already satisfied: python-dateutil>=2.8.2 in c:\\users\\logan\\anaconda3\\envs\\myenv\\lib\\site-packages (from pandas) (2.9.0.post0)\n",
      "Requirement already satisfied: pytz>=2020.1 in c:\\users\\logan\\anaconda3\\envs\\myenv\\lib\\site-packages (from pandas) (2024.1)\n",
      "Requirement already satisfied: tzdata>=2022.7 in c:\\users\\logan\\anaconda3\\envs\\myenv\\lib\\site-packages (from pandas) (2024.2)\n",
      "Requirement already satisfied: contourpy>=1.0.1 in c:\\users\\logan\\anaconda3\\envs\\myenv\\lib\\site-packages (from matplotlib) (1.3.1)\n",
      "Requirement already satisfied: cycler>=0.10 in c:\\users\\logan\\anaconda3\\envs\\myenv\\lib\\site-packages (from matplotlib) (0.12.1)\n",
      "Requirement already satisfied: fonttools>=4.22.0 in c:\\users\\logan\\anaconda3\\envs\\myenv\\lib\\site-packages (from matplotlib) (4.55.0)\n",
      "Requirement already satisfied: kiwisolver>=1.3.1 in c:\\users\\logan\\anaconda3\\envs\\myenv\\lib\\site-packages (from matplotlib) (1.4.7)\n",
      "Requirement already satisfied: packaging>=20.0 in c:\\users\\logan\\anaconda3\\envs\\myenv\\lib\\site-packages (from matplotlib) (24.1)\n",
      "Requirement already satisfied: pillow>=8 in c:\\users\\logan\\anaconda3\\envs\\myenv\\lib\\site-packages (from matplotlib) (11.0.0)\n",
      "Requirement already satisfied: pyparsing>=2.3.1 in c:\\users\\logan\\anaconda3\\envs\\myenv\\lib\\site-packages (from matplotlib) (3.2.0)\n",
      "Requirement already satisfied: six>=1.5 in c:\\users\\logan\\anaconda3\\envs\\myenv\\lib\\site-packages (from python-dateutil>=2.8.2->pandas) (1.16.0)\n",
      "Requirement already satisfied: scikit-learn in c:\\users\\logan\\anaconda3\\envs\\myenv\\lib\\site-packages (1.5.2)\n",
      "Requirement already satisfied: xgboost in c:\\users\\logan\\anaconda3\\envs\\myenv\\lib\\site-packages (2.1.2)\n",
      "Requirement already satisfied: imbalanced-learn in c:\\users\\logan\\anaconda3\\envs\\myenv\\lib\\site-packages (0.12.4)\n",
      "Requirement already satisfied: numpy>=1.19.5 in c:\\users\\logan\\anaconda3\\envs\\myenv\\lib\\site-packages (from scikit-learn) (1.26.4)\n",
      "Requirement already satisfied: scipy>=1.6.0 in c:\\users\\logan\\anaconda3\\envs\\myenv\\lib\\site-packages (from scikit-learn) (1.14.1)\n",
      "Requirement already satisfied: joblib>=1.2.0 in c:\\users\\logan\\anaconda3\\envs\\myenv\\lib\\site-packages (from scikit-learn) (1.4.2)\n",
      "Requirement already satisfied: threadpoolctl>=3.1.0 in c:\\users\\logan\\anaconda3\\envs\\myenv\\lib\\site-packages (from scikit-learn) (3.5.0)\n",
      "Requirement already satisfied: hyperopt in c:\\users\\logan\\anaconda3\\envs\\myenv\\lib\\site-packages (0.2.7)\n",
      "Requirement already satisfied: scikit-optimize in c:\\users\\logan\\anaconda3\\envs\\myenv\\lib\\site-packages (0.10.2)\n",
      "Requirement already satisfied: numpy in c:\\users\\logan\\anaconda3\\envs\\myenv\\lib\\site-packages (from hyperopt) (1.26.4)\n",
      "Requirement already satisfied: scipy in c:\\users\\logan\\anaconda3\\envs\\myenv\\lib\\site-packages (from hyperopt) (1.14.1)\n",
      "Requirement already satisfied: six in c:\\users\\logan\\anaconda3\\envs\\myenv\\lib\\site-packages (from hyperopt) (1.16.0)\n",
      "Requirement already satisfied: networkx>=2.2 in c:\\users\\logan\\anaconda3\\envs\\myenv\\lib\\site-packages (from hyperopt) (3.4.2)\n",
      "Requirement already satisfied: future in c:\\users\\logan\\anaconda3\\envs\\myenv\\lib\\site-packages (from hyperopt) (1.0.0)\n",
      "Requirement already satisfied: tqdm in c:\\users\\logan\\anaconda3\\envs\\myenv\\lib\\site-packages (from hyperopt) (4.67.0)\n",
      "Requirement already satisfied: cloudpickle in c:\\users\\logan\\anaconda3\\envs\\myenv\\lib\\site-packages (from hyperopt) (3.1.0)\n",
      "Requirement already satisfied: py4j in c:\\users\\logan\\anaconda3\\envs\\myenv\\lib\\site-packages (from hyperopt) (0.10.9.7)\n",
      "Requirement already satisfied: joblib>=0.11 in c:\\users\\logan\\anaconda3\\envs\\myenv\\lib\\site-packages (from scikit-optimize) (1.4.2)\n",
      "Requirement already satisfied: pyaml>=16.9 in c:\\users\\logan\\anaconda3\\envs\\myenv\\lib\\site-packages (from scikit-optimize) (24.9.0)\n",
      "Requirement already satisfied: scikit-learn>=1.0.0 in c:\\users\\logan\\anaconda3\\envs\\myenv\\lib\\site-packages (from scikit-optimize) (1.5.2)\n",
      "Requirement already satisfied: packaging>=21.3 in c:\\users\\logan\\anaconda3\\envs\\myenv\\lib\\site-packages (from scikit-optimize) (24.1)\n",
      "Requirement already satisfied: PyYAML in c:\\users\\logan\\anaconda3\\envs\\myenv\\lib\\site-packages (from pyaml>=16.9->scikit-optimize) (6.0.2)\n",
      "Requirement already satisfied: threadpoolctl>=3.1.0 in c:\\users\\logan\\anaconda3\\envs\\myenv\\lib\\site-packages (from scikit-learn>=1.0.0->scikit-optimize) (3.5.0)\n",
      "Requirement already satisfied: colorama in c:\\users\\logan\\anaconda3\\envs\\myenv\\lib\\site-packages (from tqdm->hyperopt) (0.4.6)\n",
      "Collecting git+https://github.com/SantiagoEG/FCBF_module.git\n",
      "  Cloning https://github.com/SantiagoEG/FCBF_module.git to c:\\users\\logan\\appdata\\local\\temp\\pip-req-build-o5sso27u\n",
      "  Resolved https://github.com/SantiagoEG/FCBF_module.git to commit 092b60b65ee6ceaf9b0227d12b575f2a3336b287\n"
     ]
    },
    {
     "name": "stderr",
     "output_type": "stream",
     "text": [
      "  Running command git clone --filter=blob:none --quiet https://github.com/SantiagoEG/FCBF_module.git 'C:\\Users\\Logan\\AppData\\Local\\Temp\\pip-req-build-o5sso27u'\n",
      "ERROR: git+https://github.com/SantiagoEG/FCBF_module.git does not appear to be a Python project: neither 'setup.py' nor 'pyproject.toml' found.\n"
     ]
    }
   ],
   "source": [
    "# Uninstall NumPy if it's already installed\n",
    "!pip uninstall numpy -y\n",
    "\n",
    "# Restrict NumPy to version 1.26.4\n",
    "!pip install numpy==1.26.4\n",
    "\n",
    "# Install core dependencies\n",
    "!pip install pandas seaborn matplotlib scipy\n",
    "\n",
    "# Machine learning libraries\n",
    "!pip install scikit-learn xgboost imbalanced-learn\n",
    "\n",
    "# Hyperparameter optimization libraries\n",
    "!pip install hyperopt scikit-optimize\n",
    "\n",
    "# Install custom module FCBF from GitHub\n",
    "!pip install git+https://github.com/SantiagoEG/FCBF_module.git\n"
   ]
  },
  {
   "cell_type": "code",
   "execution_count": 2,
   "metadata": {},
   "outputs": [],
   "source": [
    "import warnings\n",
    "warnings.filterwarnings(\"ignore\")"
   ]
  },
  {
   "cell_type": "code",
   "execution_count": 3,
   "metadata": {},
   "outputs": [],
   "source": [
    "import numpy as np\n",
    "import pandas as pd\n",
    "import seaborn as sns\n",
    "import matplotlib.pyplot as plt\n",
    "from sklearn.preprocessing import LabelEncoder\n",
    "from sklearn.model_selection import train_test_split\n",
    "from sklearn.metrics import classification_report,confusion_matrix,accuracy_score,precision_recall_fscore_support\n",
    "from sklearn.metrics import f1_score,roc_auc_score\n",
    "from sklearn.ensemble import RandomForestClassifier,ExtraTreesClassifier\n",
    "from sklearn.tree import DecisionTreeClassifier\n",
    "import xgboost as xgb\n",
    "from xgboost import plot_importance\n",
    "\n",
    "# Isolation Forest Import -- 4371\n",
    "from sklearn.ensemble import IsolationForest\n",
    "\n",
    "import warnings\n",
    "warnings.filterwarnings(\"ignore\")\n",
    "\n",
    "import numpy as np\n",
    "import pandas as pd\n",
    "import seaborn as sns\n",
    "import matplotlib.pyplot as plt\n",
    "\n",
    "from sklearn.preprocessing import LabelEncoder\n",
    "from sklearn.model_selection import train_test_split\n",
    "\n",
    "from sklearn.feature_selection import mutual_info_classif\n",
    "from FCBF_module import FCBF, FCBFK\n",
    "\n",
    "from sklearn.ensemble import RandomForestClassifier, IsolationForest\n",
    "from sklearn.metrics import (\n",
    "    classification_report,\n",
    "    confusion_matrix,\n",
    "    accuracy_score,\n",
    "    f1_score,\n",
    "    ConfusionMatrixDisplay\n",
    ")"
   ]
  },
  {
   "cell_type": "markdown",
   "metadata": {},
   "source": [
    "## Read the sampled CICIDS2017 dataset\n",
    "The CICIDS2017 dataset is publicly available at: https://www.unb.ca/cic/datasets/ids-2017.html  \n",
    "Due to the large size of this dataset, the sampled subsets of CICIDS2017 is used. The subsets are in the \"data\" folder.  \n",
    "If you want to use this code on other datasets (e.g., CAN-intrusion dataset), just change the dataset name and follow the same steps. The models in this code are generic models that can be used in any intrusion detection/network traffic datasets."
   ]
  },
  {
   "cell_type": "code",
   "execution_count": 4,
   "metadata": {
    "scrolled": true
   },
   "outputs": [],
   "source": [
    "#Read dataset\n",
    "df = pd.read_csv('./data/CICIDS2017_sample.csv') \n",
    "# The results in this code is based on the original CICIDS2017 dataset. Please go to cell [21] if you work on the sampled dataset. "
   ]
  },
  {
   "cell_type": "code",
   "execution_count": 5,
   "metadata": {},
   "outputs": [
    {
     "data": {
      "text/html": [
       "<div>\n",
       "<style scoped>\n",
       "    .dataframe tbody tr th:only-of-type {\n",
       "        vertical-align: middle;\n",
       "    }\n",
       "\n",
       "    .dataframe tbody tr th {\n",
       "        vertical-align: top;\n",
       "    }\n",
       "\n",
       "    .dataframe thead th {\n",
       "        text-align: right;\n",
       "    }\n",
       "</style>\n",
       "<table border=\"1\" class=\"dataframe\">\n",
       "  <thead>\n",
       "    <tr style=\"text-align: right;\">\n",
       "      <th></th>\n",
       "      <th>Flow Duration</th>\n",
       "      <th>Total Fwd Packets</th>\n",
       "      <th>Total Backward Packets</th>\n",
       "      <th>Total Length of Fwd Packets</th>\n",
       "      <th>Total Length of Bwd Packets</th>\n",
       "      <th>Fwd Packet Length Max</th>\n",
       "      <th>Fwd Packet Length Min</th>\n",
       "      <th>Fwd Packet Length Mean</th>\n",
       "      <th>Fwd Packet Length Std</th>\n",
       "      <th>Bwd Packet Length Max</th>\n",
       "      <th>...</th>\n",
       "      <th>min_seg_size_forward</th>\n",
       "      <th>Active Mean</th>\n",
       "      <th>Active Std</th>\n",
       "      <th>Active Max</th>\n",
       "      <th>Active Min</th>\n",
       "      <th>Idle Mean</th>\n",
       "      <th>Idle Std</th>\n",
       "      <th>Idle Max</th>\n",
       "      <th>Idle Min</th>\n",
       "      <th>Label</th>\n",
       "    </tr>\n",
       "  </thead>\n",
       "  <tbody>\n",
       "    <tr>\n",
       "      <th>0</th>\n",
       "      <td>4</td>\n",
       "      <td>2</td>\n",
       "      <td>0</td>\n",
       "      <td>37</td>\n",
       "      <td>0</td>\n",
       "      <td>31</td>\n",
       "      <td>6</td>\n",
       "      <td>18.500000</td>\n",
       "      <td>17.677670</td>\n",
       "      <td>0</td>\n",
       "      <td>...</td>\n",
       "      <td>20</td>\n",
       "      <td>0.0</td>\n",
       "      <td>0.0</td>\n",
       "      <td>0</td>\n",
       "      <td>0</td>\n",
       "      <td>0.0</td>\n",
       "      <td>0.0</td>\n",
       "      <td>0</td>\n",
       "      <td>0</td>\n",
       "      <td>BENIGN</td>\n",
       "    </tr>\n",
       "    <tr>\n",
       "      <th>1</th>\n",
       "      <td>142377</td>\n",
       "      <td>46</td>\n",
       "      <td>62</td>\n",
       "      <td>1325</td>\n",
       "      <td>105855</td>\n",
       "      <td>570</td>\n",
       "      <td>0</td>\n",
       "      <td>28.804348</td>\n",
       "      <td>111.407285</td>\n",
       "      <td>4344</td>\n",
       "      <td>...</td>\n",
       "      <td>20</td>\n",
       "      <td>0.0</td>\n",
       "      <td>0.0</td>\n",
       "      <td>0</td>\n",
       "      <td>0</td>\n",
       "      <td>0.0</td>\n",
       "      <td>0.0</td>\n",
       "      <td>0</td>\n",
       "      <td>0</td>\n",
       "      <td>BENIGN</td>\n",
       "    </tr>\n",
       "    <tr>\n",
       "      <th>2</th>\n",
       "      <td>118873</td>\n",
       "      <td>23</td>\n",
       "      <td>28</td>\n",
       "      <td>1169</td>\n",
       "      <td>45025</td>\n",
       "      <td>570</td>\n",
       "      <td>0</td>\n",
       "      <td>50.826087</td>\n",
       "      <td>156.137367</td>\n",
       "      <td>2896</td>\n",
       "      <td>...</td>\n",
       "      <td>32</td>\n",
       "      <td>0.0</td>\n",
       "      <td>0.0</td>\n",
       "      <td>0</td>\n",
       "      <td>0</td>\n",
       "      <td>0.0</td>\n",
       "      <td>0.0</td>\n",
       "      <td>0</td>\n",
       "      <td>0</td>\n",
       "      <td>BENIGN</td>\n",
       "    </tr>\n",
       "    <tr>\n",
       "      <th>3</th>\n",
       "      <td>143577</td>\n",
       "      <td>43</td>\n",
       "      <td>55</td>\n",
       "      <td>1301</td>\n",
       "      <td>107289</td>\n",
       "      <td>570</td>\n",
       "      <td>0</td>\n",
       "      <td>30.255814</td>\n",
       "      <td>115.178969</td>\n",
       "      <td>4344</td>\n",
       "      <td>...</td>\n",
       "      <td>20</td>\n",
       "      <td>0.0</td>\n",
       "      <td>0.0</td>\n",
       "      <td>0</td>\n",
       "      <td>0</td>\n",
       "      <td>0.0</td>\n",
       "      <td>0.0</td>\n",
       "      <td>0</td>\n",
       "      <td>0</td>\n",
       "      <td>BENIGN</td>\n",
       "    </tr>\n",
       "    <tr>\n",
       "      <th>4</th>\n",
       "      <td>143745</td>\n",
       "      <td>49</td>\n",
       "      <td>59</td>\n",
       "      <td>1331</td>\n",
       "      <td>110185</td>\n",
       "      <td>570</td>\n",
       "      <td>0</td>\n",
       "      <td>27.163265</td>\n",
       "      <td>108.067176</td>\n",
       "      <td>4344</td>\n",
       "      <td>...</td>\n",
       "      <td>20</td>\n",
       "      <td>0.0</td>\n",
       "      <td>0.0</td>\n",
       "      <td>0</td>\n",
       "      <td>0</td>\n",
       "      <td>0.0</td>\n",
       "      <td>0.0</td>\n",
       "      <td>0</td>\n",
       "      <td>0</td>\n",
       "      <td>BENIGN</td>\n",
       "    </tr>\n",
       "    <tr>\n",
       "      <th>...</th>\n",
       "      <td>...</td>\n",
       "      <td>...</td>\n",
       "      <td>...</td>\n",
       "      <td>...</td>\n",
       "      <td>...</td>\n",
       "      <td>...</td>\n",
       "      <td>...</td>\n",
       "      <td>...</td>\n",
       "      <td>...</td>\n",
       "      <td>...</td>\n",
       "      <td>...</td>\n",
       "      <td>...</td>\n",
       "      <td>...</td>\n",
       "      <td>...</td>\n",
       "      <td>...</td>\n",
       "      <td>...</td>\n",
       "      <td>...</td>\n",
       "      <td>...</td>\n",
       "      <td>...</td>\n",
       "      <td>...</td>\n",
       "      <td>...</td>\n",
       "    </tr>\n",
       "    <tr>\n",
       "      <th>56656</th>\n",
       "      <td>234</td>\n",
       "      <td>2</td>\n",
       "      <td>2</td>\n",
       "      <td>64</td>\n",
       "      <td>232</td>\n",
       "      <td>32</td>\n",
       "      <td>32</td>\n",
       "      <td>32.000000</td>\n",
       "      <td>0.000000</td>\n",
       "      <td>116</td>\n",
       "      <td>...</td>\n",
       "      <td>32</td>\n",
       "      <td>0.0</td>\n",
       "      <td>0.0</td>\n",
       "      <td>0</td>\n",
       "      <td>0</td>\n",
       "      <td>0.0</td>\n",
       "      <td>0.0</td>\n",
       "      <td>0</td>\n",
       "      <td>0</td>\n",
       "      <td>BENIGN</td>\n",
       "    </tr>\n",
       "    <tr>\n",
       "      <th>56657</th>\n",
       "      <td>133288</td>\n",
       "      <td>2</td>\n",
       "      <td>2</td>\n",
       "      <td>94</td>\n",
       "      <td>482</td>\n",
       "      <td>47</td>\n",
       "      <td>47</td>\n",
       "      <td>47.000000</td>\n",
       "      <td>0.000000</td>\n",
       "      <td>241</td>\n",
       "      <td>...</td>\n",
       "      <td>32</td>\n",
       "      <td>0.0</td>\n",
       "      <td>0.0</td>\n",
       "      <td>0</td>\n",
       "      <td>0</td>\n",
       "      <td>0.0</td>\n",
       "      <td>0.0</td>\n",
       "      <td>0</td>\n",
       "      <td>0</td>\n",
       "      <td>BENIGN</td>\n",
       "    </tr>\n",
       "    <tr>\n",
       "      <th>56658</th>\n",
       "      <td>11507694</td>\n",
       "      <td>5</td>\n",
       "      <td>4</td>\n",
       "      <td>450</td>\n",
       "      <td>3525</td>\n",
       "      <td>450</td>\n",
       "      <td>0</td>\n",
       "      <td>90.000000</td>\n",
       "      <td>201.246118</td>\n",
       "      <td>3525</td>\n",
       "      <td>...</td>\n",
       "      <td>32</td>\n",
       "      <td>893.0</td>\n",
       "      <td>0.0</td>\n",
       "      <td>893</td>\n",
       "      <td>893</td>\n",
       "      <td>6503640.0</td>\n",
       "      <td>0.0</td>\n",
       "      <td>6503640</td>\n",
       "      <td>6503640</td>\n",
       "      <td>DoS</td>\n",
       "    </tr>\n",
       "    <tr>\n",
       "      <th>56659</th>\n",
       "      <td>11507707</td>\n",
       "      <td>8</td>\n",
       "      <td>6</td>\n",
       "      <td>416</td>\n",
       "      <td>11632</td>\n",
       "      <td>416</td>\n",
       "      <td>0</td>\n",
       "      <td>52.000000</td>\n",
       "      <td>147.078211</td>\n",
       "      <td>5792</td>\n",
       "      <td>...</td>\n",
       "      <td>32</td>\n",
       "      <td>897.0</td>\n",
       "      <td>0.0</td>\n",
       "      <td>897</td>\n",
       "      <td>897</td>\n",
       "      <td>6503122.0</td>\n",
       "      <td>0.0</td>\n",
       "      <td>6503122</td>\n",
       "      <td>6503122</td>\n",
       "      <td>DoS</td>\n",
       "    </tr>\n",
       "    <tr>\n",
       "      <th>56660</th>\n",
       "      <td>11512204</td>\n",
       "      <td>8</td>\n",
       "      <td>5</td>\n",
       "      <td>326</td>\n",
       "      <td>11632</td>\n",
       "      <td>326</td>\n",
       "      <td>0</td>\n",
       "      <td>40.750000</td>\n",
       "      <td>115.258405</td>\n",
       "      <td>10184</td>\n",
       "      <td>...</td>\n",
       "      <td>32</td>\n",
       "      <td>892.0</td>\n",
       "      <td>0.0</td>\n",
       "      <td>892</td>\n",
       "      <td>892</td>\n",
       "      <td>6507197.0</td>\n",
       "      <td>0.0</td>\n",
       "      <td>6507197</td>\n",
       "      <td>6507197</td>\n",
       "      <td>DoS</td>\n",
       "    </tr>\n",
       "  </tbody>\n",
       "</table>\n",
       "<p>56661 rows × 78 columns</p>\n",
       "</div>"
      ],
      "text/plain": [
       "       Flow Duration  Total Fwd Packets  Total Backward Packets  \\\n",
       "0                  4                  2                       0   \n",
       "1             142377                 46                      62   \n",
       "2             118873                 23                      28   \n",
       "3             143577                 43                      55   \n",
       "4             143745                 49                      59   \n",
       "...              ...                ...                     ...   \n",
       "56656            234                  2                       2   \n",
       "56657         133288                  2                       2   \n",
       "56658       11507694                  5                       4   \n",
       "56659       11507707                  8                       6   \n",
       "56660       11512204                  8                       5   \n",
       "\n",
       "       Total Length of Fwd Packets  Total Length of Bwd Packets  \\\n",
       "0                               37                            0   \n",
       "1                             1325                       105855   \n",
       "2                             1169                        45025   \n",
       "3                             1301                       107289   \n",
       "4                             1331                       110185   \n",
       "...                            ...                          ...   \n",
       "56656                           64                          232   \n",
       "56657                           94                          482   \n",
       "56658                          450                         3525   \n",
       "56659                          416                        11632   \n",
       "56660                          326                        11632   \n",
       "\n",
       "       Fwd Packet Length Max  Fwd Packet Length Min  Fwd Packet Length Mean  \\\n",
       "0                         31                      6               18.500000   \n",
       "1                        570                      0               28.804348   \n",
       "2                        570                      0               50.826087   \n",
       "3                        570                      0               30.255814   \n",
       "4                        570                      0               27.163265   \n",
       "...                      ...                    ...                     ...   \n",
       "56656                     32                     32               32.000000   \n",
       "56657                     47                     47               47.000000   \n",
       "56658                    450                      0               90.000000   \n",
       "56659                    416                      0               52.000000   \n",
       "56660                    326                      0               40.750000   \n",
       "\n",
       "       Fwd Packet Length Std  Bwd Packet Length Max  ...  \\\n",
       "0                  17.677670                      0  ...   \n",
       "1                 111.407285                   4344  ...   \n",
       "2                 156.137367                   2896  ...   \n",
       "3                 115.178969                   4344  ...   \n",
       "4                 108.067176                   4344  ...   \n",
       "...                      ...                    ...  ...   \n",
       "56656               0.000000                    116  ...   \n",
       "56657               0.000000                    241  ...   \n",
       "56658             201.246118                   3525  ...   \n",
       "56659             147.078211                   5792  ...   \n",
       "56660             115.258405                  10184  ...   \n",
       "\n",
       "       min_seg_size_forward  Active Mean  Active Std  Active Max  Active Min  \\\n",
       "0                        20          0.0         0.0           0           0   \n",
       "1                        20          0.0         0.0           0           0   \n",
       "2                        32          0.0         0.0           0           0   \n",
       "3                        20          0.0         0.0           0           0   \n",
       "4                        20          0.0         0.0           0           0   \n",
       "...                     ...          ...         ...         ...         ...   \n",
       "56656                    32          0.0         0.0           0           0   \n",
       "56657                    32          0.0         0.0           0           0   \n",
       "56658                    32        893.0         0.0         893         893   \n",
       "56659                    32        897.0         0.0         897         897   \n",
       "56660                    32        892.0         0.0         892         892   \n",
       "\n",
       "       Idle Mean  Idle Std  Idle Max  Idle Min   Label  \n",
       "0            0.0       0.0         0         0  BENIGN  \n",
       "1            0.0       0.0         0         0  BENIGN  \n",
       "2            0.0       0.0         0         0  BENIGN  \n",
       "3            0.0       0.0         0         0  BENIGN  \n",
       "4            0.0       0.0         0         0  BENIGN  \n",
       "...          ...       ...       ...       ...     ...  \n",
       "56656        0.0       0.0         0         0  BENIGN  \n",
       "56657        0.0       0.0         0         0  BENIGN  \n",
       "56658  6503640.0       0.0   6503640   6503640     DoS  \n",
       "56659  6503122.0       0.0   6503122   6503122     DoS  \n",
       "56660  6507197.0       0.0   6507197   6507197     DoS  \n",
       "\n",
       "[56661 rows x 78 columns]"
      ]
     },
     "execution_count": 5,
     "metadata": {},
     "output_type": "execute_result"
    }
   ],
   "source": [
    "df"
   ]
  },
  {
   "cell_type": "code",
   "execution_count": 6,
   "metadata": {},
   "outputs": [
    {
     "data": {
      "text/plain": [
       "Label\n",
       "BENIGN          22731\n",
       "DoS             19035\n",
       "PortScan         7946\n",
       "BruteForce       2767\n",
       "WebAttack        2180\n",
       "Bot              1966\n",
       "Infiltration       36\n",
       "Name: count, dtype: int64"
      ]
     },
     "execution_count": 6,
     "metadata": {},
     "output_type": "execute_result"
    }
   ],
   "source": [
    "df.Label.value_counts()"
   ]
  },
  {
   "cell_type": "markdown",
   "metadata": {},
   "source": [
    "### Preprocessing (normalization and padding values)"
   ]
  },
  {
   "cell_type": "code",
   "execution_count": 7,
   "metadata": {},
   "outputs": [],
   "source": [
    "# Z-score normalization\n",
    "features = df.dtypes[df.dtypes != 'object'].index\n",
    "df[features] = df[features].apply(\n",
    "    lambda x: (x - x.mean()) / (x.std()))\n",
    "# Fill empty values by 0\n",
    "df = df.fillna(0)"
   ]
  },
  {
   "cell_type": "markdown",
   "metadata": {},
   "source": [
    "### Data sampling\n",
    "Due to the space limit of GitHub files and the large size of network traffic data, we sample a small-sized subset for model learning using **k-means cluster sampling**"
   ]
  },
  {
   "cell_type": "code",
   "execution_count": 8,
   "metadata": {},
   "outputs": [],
   "source": [
    "labelencoder = LabelEncoder()\n",
    "df.iloc[:, -1] = labelencoder.fit_transform(df.iloc[:, -1])"
   ]
  },
  {
   "cell_type": "code",
   "execution_count": 9,
   "metadata": {},
   "outputs": [
    {
     "data": {
      "text/plain": [
       "Label\n",
       "0    22731\n",
       "3    19035\n",
       "5     7946\n",
       "2     2767\n",
       "6     2180\n",
       "1     1966\n",
       "4       36\n",
       "Name: count, dtype: int64"
      ]
     },
     "execution_count": 9,
     "metadata": {},
     "output_type": "execute_result"
    }
   ],
   "source": [
    "df.Label.value_counts()"
   ]
  },
  {
   "cell_type": "code",
   "execution_count": 10,
   "metadata": {},
   "outputs": [],
   "source": [
    "# retain the minority class instances and sample the majority class instances\n",
    "df_minor = df[(df['Label']==6)|(df['Label']==1)|(df['Label']==4)]\n",
    "df_major = df.drop(df_minor.index)"
   ]
  },
  {
   "cell_type": "code",
   "execution_count": 11,
   "metadata": {},
   "outputs": [],
   "source": [
    "X = df_major.drop(['Label'],axis=1) \n",
    "y = df_major.iloc[:, -1].values.reshape(-1,1)\n",
    "y=np.ravel(y)"
   ]
  },
  {
   "cell_type": "code",
   "execution_count": 12,
   "metadata": {
    "scrolled": true
   },
   "outputs": [],
   "source": [
    "# use k-means to cluster the data samples and select a proportion of data from each cluster\n",
    "from sklearn.cluster import MiniBatchKMeans\n",
    "kmeans = MiniBatchKMeans(n_clusters=1000, random_state=0).fit(X)"
   ]
  },
  {
   "cell_type": "code",
   "execution_count": 13,
   "metadata": {},
   "outputs": [],
   "source": [
    "klabel=kmeans.labels_\n",
    "df_major['klabel']=klabel"
   ]
  },
  {
   "cell_type": "code",
   "execution_count": 14,
   "metadata": {
    "scrolled": true
   },
   "outputs": [
    {
     "data": {
      "text/plain": [
       "klabel\n",
       "20     482\n",
       "842    411\n",
       "312    348\n",
       "324    337\n",
       "745    334\n",
       "      ... \n",
       "149      1\n",
       "879      1\n",
       "100      1\n",
       "727      1\n",
       "71       1\n",
       "Name: count, Length: 979, dtype: int64"
      ]
     },
     "execution_count": 14,
     "metadata": {},
     "output_type": "execute_result"
    }
   ],
   "source": [
    "df_major['klabel'].value_counts()"
   ]
  },
  {
   "cell_type": "code",
   "execution_count": 15,
   "metadata": {},
   "outputs": [],
   "source": [
    "cols = list(df_major)\n",
    "cols.insert(78, cols.pop(cols.index('Label')))\n",
    "df_major = df_major.loc[:, cols]"
   ]
  },
  {
   "cell_type": "code",
   "execution_count": 16,
   "metadata": {
    "scrolled": true
   },
   "outputs": [
    {
     "data": {
      "text/html": [
       "<div>\n",
       "<style scoped>\n",
       "    .dataframe tbody tr th:only-of-type {\n",
       "        vertical-align: middle;\n",
       "    }\n",
       "\n",
       "    .dataframe tbody tr th {\n",
       "        vertical-align: top;\n",
       "    }\n",
       "\n",
       "    .dataframe thead th {\n",
       "        text-align: right;\n",
       "    }\n",
       "</style>\n",
       "<table border=\"1\" class=\"dataframe\">\n",
       "  <thead>\n",
       "    <tr style=\"text-align: right;\">\n",
       "      <th></th>\n",
       "      <th>Flow Duration</th>\n",
       "      <th>Total Fwd Packets</th>\n",
       "      <th>Total Backward Packets</th>\n",
       "      <th>Total Length of Fwd Packets</th>\n",
       "      <th>Total Length of Bwd Packets</th>\n",
       "      <th>Fwd Packet Length Max</th>\n",
       "      <th>Fwd Packet Length Min</th>\n",
       "      <th>Fwd Packet Length Mean</th>\n",
       "      <th>Fwd Packet Length Std</th>\n",
       "      <th>Bwd Packet Length Max</th>\n",
       "      <th>...</th>\n",
       "      <th>Active Mean</th>\n",
       "      <th>Active Std</th>\n",
       "      <th>Active Max</th>\n",
       "      <th>Active Min</th>\n",
       "      <th>Idle Mean</th>\n",
       "      <th>Idle Std</th>\n",
       "      <th>Idle Max</th>\n",
       "      <th>Idle Min</th>\n",
       "      <th>klabel</th>\n",
       "      <th>Label</th>\n",
       "    </tr>\n",
       "  </thead>\n",
       "  <tbody>\n",
       "    <tr>\n",
       "      <th>0</th>\n",
       "      <td>-0.528470</td>\n",
       "      <td>-0.068426</td>\n",
       "      <td>-0.081806</td>\n",
       "      <td>-0.032573</td>\n",
       "      <td>-0.048343</td>\n",
       "      <td>-0.202326</td>\n",
       "      <td>-0.085798</td>\n",
       "      <td>-0.141625</td>\n",
       "      <td>-0.176448</td>\n",
       "      <td>-0.559719</td>\n",
       "      <td>...</td>\n",
       "      <td>-0.109889</td>\n",
       "      <td>-0.081786</td>\n",
       "      <td>-0.128620</td>\n",
       "      <td>-0.094860</td>\n",
       "      <td>-0.458729</td>\n",
       "      <td>-0.137651</td>\n",
       "      <td>-0.466440</td>\n",
       "      <td>-0.442057</td>\n",
       "      <td>402</td>\n",
       "      <td>0</td>\n",
       "    </tr>\n",
       "    <tr>\n",
       "      <th>1</th>\n",
       "      <td>-0.524593</td>\n",
       "      <td>0.704878</td>\n",
       "      <td>0.850340</td>\n",
       "      <td>0.027749</td>\n",
       "      <td>0.920410</td>\n",
       "      <td>0.603275</td>\n",
       "      <td>-0.211174</td>\n",
       "      <td>-0.082434</td>\n",
       "      <td>0.240596</td>\n",
       "      <td>1.006302</td>\n",
       "      <td>...</td>\n",
       "      <td>-0.109889</td>\n",
       "      <td>-0.081786</td>\n",
       "      <td>-0.128620</td>\n",
       "      <td>-0.094860</td>\n",
       "      <td>-0.458729</td>\n",
       "      <td>-0.137651</td>\n",
       "      <td>-0.466440</td>\n",
       "      <td>-0.442057</td>\n",
       "      <td>359</td>\n",
       "      <td>0</td>\n",
       "    </tr>\n",
       "    <tr>\n",
       "      <th>2</th>\n",
       "      <td>-0.525233</td>\n",
       "      <td>0.300651</td>\n",
       "      <td>0.339163</td>\n",
       "      <td>0.020443</td>\n",
       "      <td>0.363712</td>\n",
       "      <td>0.603275</td>\n",
       "      <td>-0.211174</td>\n",
       "      <td>0.044064</td>\n",
       "      <td>0.439619</td>\n",
       "      <td>0.484295</td>\n",
       "      <td>...</td>\n",
       "      <td>-0.109889</td>\n",
       "      <td>-0.081786</td>\n",
       "      <td>-0.128620</td>\n",
       "      <td>-0.094860</td>\n",
       "      <td>-0.458729</td>\n",
       "      <td>-0.137651</td>\n",
       "      <td>-0.466440</td>\n",
       "      <td>-0.442057</td>\n",
       "      <td>191</td>\n",
       "      <td>0</td>\n",
       "    </tr>\n",
       "    <tr>\n",
       "      <th>3</th>\n",
       "      <td>-0.524560</td>\n",
       "      <td>0.652153</td>\n",
       "      <td>0.745098</td>\n",
       "      <td>0.026625</td>\n",
       "      <td>0.933533</td>\n",
       "      <td>0.603275</td>\n",
       "      <td>-0.211174</td>\n",
       "      <td>-0.074097</td>\n",
       "      <td>0.257378</td>\n",
       "      <td>1.006302</td>\n",
       "      <td>...</td>\n",
       "      <td>-0.109889</td>\n",
       "      <td>-0.081786</td>\n",
       "      <td>-0.128620</td>\n",
       "      <td>-0.094860</td>\n",
       "      <td>-0.458729</td>\n",
       "      <td>-0.137651</td>\n",
       "      <td>-0.466440</td>\n",
       "      <td>-0.442057</td>\n",
       "      <td>359</td>\n",
       "      <td>0</td>\n",
       "    </tr>\n",
       "    <tr>\n",
       "      <th>4</th>\n",
       "      <td>-0.524555</td>\n",
       "      <td>0.757604</td>\n",
       "      <td>0.805237</td>\n",
       "      <td>0.028030</td>\n",
       "      <td>0.960037</td>\n",
       "      <td>0.603275</td>\n",
       "      <td>-0.211174</td>\n",
       "      <td>-0.091861</td>\n",
       "      <td>0.225734</td>\n",
       "      <td>1.006302</td>\n",
       "      <td>...</td>\n",
       "      <td>-0.109889</td>\n",
       "      <td>-0.081786</td>\n",
       "      <td>-0.128620</td>\n",
       "      <td>-0.094860</td>\n",
       "      <td>-0.458729</td>\n",
       "      <td>-0.137651</td>\n",
       "      <td>-0.466440</td>\n",
       "      <td>-0.442057</td>\n",
       "      <td>359</td>\n",
       "      <td>0</td>\n",
       "    </tr>\n",
       "    <tr>\n",
       "      <th>...</th>\n",
       "      <td>...</td>\n",
       "      <td>...</td>\n",
       "      <td>...</td>\n",
       "      <td>...</td>\n",
       "      <td>...</td>\n",
       "      <td>...</td>\n",
       "      <td>...</td>\n",
       "      <td>...</td>\n",
       "      <td>...</td>\n",
       "      <td>...</td>\n",
       "      <td>...</td>\n",
       "      <td>...</td>\n",
       "      <td>...</td>\n",
       "      <td>...</td>\n",
       "      <td>...</td>\n",
       "      <td>...</td>\n",
       "      <td>...</td>\n",
       "      <td>...</td>\n",
       "      <td>...</td>\n",
       "      <td>...</td>\n",
       "      <td>...</td>\n",
       "    </tr>\n",
       "    <tr>\n",
       "      <th>56656</th>\n",
       "      <td>-0.528463</td>\n",
       "      <td>-0.068426</td>\n",
       "      <td>-0.051737</td>\n",
       "      <td>-0.031309</td>\n",
       "      <td>-0.046220</td>\n",
       "      <td>-0.200831</td>\n",
       "      <td>0.457498</td>\n",
       "      <td>-0.064078</td>\n",
       "      <td>-0.255104</td>\n",
       "      <td>-0.517901</td>\n",
       "      <td>...</td>\n",
       "      <td>-0.109889</td>\n",
       "      <td>-0.081786</td>\n",
       "      <td>-0.128620</td>\n",
       "      <td>-0.094860</td>\n",
       "      <td>-0.458729</td>\n",
       "      <td>-0.137651</td>\n",
       "      <td>-0.466440</td>\n",
       "      <td>-0.442057</td>\n",
       "      <td>231</td>\n",
       "      <td>0</td>\n",
       "    </tr>\n",
       "    <tr>\n",
       "      <th>56657</th>\n",
       "      <td>-0.524840</td>\n",
       "      <td>-0.068426</td>\n",
       "      <td>-0.051737</td>\n",
       "      <td>-0.029904</td>\n",
       "      <td>-0.043932</td>\n",
       "      <td>-0.178412</td>\n",
       "      <td>0.770939</td>\n",
       "      <td>0.022086</td>\n",
       "      <td>-0.255104</td>\n",
       "      <td>-0.472838</td>\n",
       "      <td>...</td>\n",
       "      <td>-0.109889</td>\n",
       "      <td>-0.081786</td>\n",
       "      <td>-0.128620</td>\n",
       "      <td>-0.094860</td>\n",
       "      <td>-0.458729</td>\n",
       "      <td>-0.137651</td>\n",
       "      <td>-0.466440</td>\n",
       "      <td>-0.442057</td>\n",
       "      <td>934</td>\n",
       "      <td>0</td>\n",
       "    </tr>\n",
       "    <tr>\n",
       "      <th>56658</th>\n",
       "      <td>-0.215111</td>\n",
       "      <td>-0.015701</td>\n",
       "      <td>-0.021667</td>\n",
       "      <td>-0.013231</td>\n",
       "      <td>-0.016083</td>\n",
       "      <td>0.423920</td>\n",
       "      <td>-0.211174</td>\n",
       "      <td>0.269089</td>\n",
       "      <td>0.640328</td>\n",
       "      <td>0.711051</td>\n",
       "      <td>...</td>\n",
       "      <td>-0.108682</td>\n",
       "      <td>-0.081786</td>\n",
       "      <td>-0.127669</td>\n",
       "      <td>-0.093554</td>\n",
       "      <td>-0.256386</td>\n",
       "      <td>-0.137651</td>\n",
       "      <td>-0.269448</td>\n",
       "      <td>-0.238252</td>\n",
       "      <td>551</td>\n",
       "      <td>3</td>\n",
       "    </tr>\n",
       "    <tr>\n",
       "      <th>56659</th>\n",
       "      <td>-0.215111</td>\n",
       "      <td>0.037025</td>\n",
       "      <td>0.008402</td>\n",
       "      <td>-0.014823</td>\n",
       "      <td>0.058109</td>\n",
       "      <td>0.373103</td>\n",
       "      <td>-0.211174</td>\n",
       "      <td>0.050807</td>\n",
       "      <td>0.399311</td>\n",
       "      <td>1.528310</td>\n",
       "      <td>...</td>\n",
       "      <td>-0.108677</td>\n",
       "      <td>-0.081786</td>\n",
       "      <td>-0.127664</td>\n",
       "      <td>-0.093548</td>\n",
       "      <td>-0.256402</td>\n",
       "      <td>-0.137651</td>\n",
       "      <td>-0.269464</td>\n",
       "      <td>-0.238268</td>\n",
       "      <td>702</td>\n",
       "      <td>3</td>\n",
       "    </tr>\n",
       "    <tr>\n",
       "      <th>56660</th>\n",
       "      <td>-0.214989</td>\n",
       "      <td>0.037025</td>\n",
       "      <td>-0.006633</td>\n",
       "      <td>-0.019038</td>\n",
       "      <td>0.058109</td>\n",
       "      <td>0.238587</td>\n",
       "      <td>-0.211174</td>\n",
       "      <td>-0.013815</td>\n",
       "      <td>0.257731</td>\n",
       "      <td>3.111635</td>\n",
       "      <td>...</td>\n",
       "      <td>-0.108683</td>\n",
       "      <td>-0.081786</td>\n",
       "      <td>-0.127670</td>\n",
       "      <td>-0.093555</td>\n",
       "      <td>-0.256275</td>\n",
       "      <td>-0.137651</td>\n",
       "      <td>-0.269340</td>\n",
       "      <td>-0.238140</td>\n",
       "      <td>253</td>\n",
       "      <td>3</td>\n",
       "    </tr>\n",
       "  </tbody>\n",
       "</table>\n",
       "<p>52479 rows × 79 columns</p>\n",
       "</div>"
      ],
      "text/plain": [
       "       Flow Duration  Total Fwd Packets  Total Backward Packets  \\\n",
       "0          -0.528470          -0.068426               -0.081806   \n",
       "1          -0.524593           0.704878                0.850340   \n",
       "2          -0.525233           0.300651                0.339163   \n",
       "3          -0.524560           0.652153                0.745098   \n",
       "4          -0.524555           0.757604                0.805237   \n",
       "...              ...                ...                     ...   \n",
       "56656      -0.528463          -0.068426               -0.051737   \n",
       "56657      -0.524840          -0.068426               -0.051737   \n",
       "56658      -0.215111          -0.015701               -0.021667   \n",
       "56659      -0.215111           0.037025                0.008402   \n",
       "56660      -0.214989           0.037025               -0.006633   \n",
       "\n",
       "       Total Length of Fwd Packets  Total Length of Bwd Packets  \\\n",
       "0                        -0.032573                    -0.048343   \n",
       "1                         0.027749                     0.920410   \n",
       "2                         0.020443                     0.363712   \n",
       "3                         0.026625                     0.933533   \n",
       "4                         0.028030                     0.960037   \n",
       "...                            ...                          ...   \n",
       "56656                    -0.031309                    -0.046220   \n",
       "56657                    -0.029904                    -0.043932   \n",
       "56658                    -0.013231                    -0.016083   \n",
       "56659                    -0.014823                     0.058109   \n",
       "56660                    -0.019038                     0.058109   \n",
       "\n",
       "       Fwd Packet Length Max  Fwd Packet Length Min  Fwd Packet Length Mean  \\\n",
       "0                  -0.202326              -0.085798               -0.141625   \n",
       "1                   0.603275              -0.211174               -0.082434   \n",
       "2                   0.603275              -0.211174                0.044064   \n",
       "3                   0.603275              -0.211174               -0.074097   \n",
       "4                   0.603275              -0.211174               -0.091861   \n",
       "...                      ...                    ...                     ...   \n",
       "56656              -0.200831               0.457498               -0.064078   \n",
       "56657              -0.178412               0.770939                0.022086   \n",
       "56658               0.423920              -0.211174                0.269089   \n",
       "56659               0.373103              -0.211174                0.050807   \n",
       "56660               0.238587              -0.211174               -0.013815   \n",
       "\n",
       "       Fwd Packet Length Std  Bwd Packet Length Max  ...  Active Mean  \\\n",
       "0                  -0.176448              -0.559719  ...    -0.109889   \n",
       "1                   0.240596               1.006302  ...    -0.109889   \n",
       "2                   0.439619               0.484295  ...    -0.109889   \n",
       "3                   0.257378               1.006302  ...    -0.109889   \n",
       "4                   0.225734               1.006302  ...    -0.109889   \n",
       "...                      ...                    ...  ...          ...   \n",
       "56656              -0.255104              -0.517901  ...    -0.109889   \n",
       "56657              -0.255104              -0.472838  ...    -0.109889   \n",
       "56658               0.640328               0.711051  ...    -0.108682   \n",
       "56659               0.399311               1.528310  ...    -0.108677   \n",
       "56660               0.257731               3.111635  ...    -0.108683   \n",
       "\n",
       "       Active Std  Active Max  Active Min  Idle Mean  Idle Std  Idle Max  \\\n",
       "0       -0.081786   -0.128620   -0.094860  -0.458729 -0.137651 -0.466440   \n",
       "1       -0.081786   -0.128620   -0.094860  -0.458729 -0.137651 -0.466440   \n",
       "2       -0.081786   -0.128620   -0.094860  -0.458729 -0.137651 -0.466440   \n",
       "3       -0.081786   -0.128620   -0.094860  -0.458729 -0.137651 -0.466440   \n",
       "4       -0.081786   -0.128620   -0.094860  -0.458729 -0.137651 -0.466440   \n",
       "...           ...         ...         ...        ...       ...       ...   \n",
       "56656   -0.081786   -0.128620   -0.094860  -0.458729 -0.137651 -0.466440   \n",
       "56657   -0.081786   -0.128620   -0.094860  -0.458729 -0.137651 -0.466440   \n",
       "56658   -0.081786   -0.127669   -0.093554  -0.256386 -0.137651 -0.269448   \n",
       "56659   -0.081786   -0.127664   -0.093548  -0.256402 -0.137651 -0.269464   \n",
       "56660   -0.081786   -0.127670   -0.093555  -0.256275 -0.137651 -0.269340   \n",
       "\n",
       "       Idle Min  klabel  Label  \n",
       "0     -0.442057     402      0  \n",
       "1     -0.442057     359      0  \n",
       "2     -0.442057     191      0  \n",
       "3     -0.442057     359      0  \n",
       "4     -0.442057     359      0  \n",
       "...         ...     ...    ...  \n",
       "56656 -0.442057     231      0  \n",
       "56657 -0.442057     934      0  \n",
       "56658 -0.238252     551      3  \n",
       "56659 -0.238268     702      3  \n",
       "56660 -0.238140     253      3  \n",
       "\n",
       "[52479 rows x 79 columns]"
      ]
     },
     "execution_count": 16,
     "metadata": {},
     "output_type": "execute_result"
    }
   ],
   "source": [
    "df_major"
   ]
  },
  {
   "cell_type": "code",
   "execution_count": 17,
   "metadata": {},
   "outputs": [],
   "source": [
    "def typicalSampling(group):\n",
    "    name = group.name\n",
    "    frac = 0.008\n",
    "    return group.sample(frac=frac)\n",
    "\n",
    "result = df_major.groupby(\n",
    "    'klabel', group_keys=False\n",
    ").apply(typicalSampling)"
   ]
  },
  {
   "cell_type": "code",
   "execution_count": 18,
   "metadata": {},
   "outputs": [
    {
     "data": {
      "text/plain": [
       "Label\n",
       "3    122\n",
       "0    119\n",
       "5     56\n",
       "2     18\n",
       "Name: count, dtype: int64"
      ]
     },
     "execution_count": 18,
     "metadata": {},
     "output_type": "execute_result"
    }
   ],
   "source": [
    "result['Label'].value_counts()"
   ]
  },
  {
   "cell_type": "code",
   "execution_count": 19,
   "metadata": {
    "scrolled": true
   },
   "outputs": [
    {
     "data": {
      "text/html": [
       "<div>\n",
       "<style scoped>\n",
       "    .dataframe tbody tr th:only-of-type {\n",
       "        vertical-align: middle;\n",
       "    }\n",
       "\n",
       "    .dataframe tbody tr th {\n",
       "        vertical-align: top;\n",
       "    }\n",
       "\n",
       "    .dataframe thead th {\n",
       "        text-align: right;\n",
       "    }\n",
       "</style>\n",
       "<table border=\"1\" class=\"dataframe\">\n",
       "  <thead>\n",
       "    <tr style=\"text-align: right;\">\n",
       "      <th></th>\n",
       "      <th>Flow Duration</th>\n",
       "      <th>Total Fwd Packets</th>\n",
       "      <th>Total Backward Packets</th>\n",
       "      <th>Total Length of Fwd Packets</th>\n",
       "      <th>Total Length of Bwd Packets</th>\n",
       "      <th>Fwd Packet Length Max</th>\n",
       "      <th>Fwd Packet Length Min</th>\n",
       "      <th>Fwd Packet Length Mean</th>\n",
       "      <th>Fwd Packet Length Std</th>\n",
       "      <th>Bwd Packet Length Max</th>\n",
       "      <th>...</th>\n",
       "      <th>Active Mean</th>\n",
       "      <th>Active Std</th>\n",
       "      <th>Active Max</th>\n",
       "      <th>Active Min</th>\n",
       "      <th>Idle Mean</th>\n",
       "      <th>Idle Std</th>\n",
       "      <th>Idle Max</th>\n",
       "      <th>Idle Min</th>\n",
       "      <th>klabel</th>\n",
       "      <th>Label</th>\n",
       "    </tr>\n",
       "  </thead>\n",
       "  <tbody>\n",
       "    <tr>\n",
       "      <th>42168</th>\n",
       "      <td>1.789626</td>\n",
       "      <td>0.054600</td>\n",
       "      <td>0.008402</td>\n",
       "      <td>-0.017680</td>\n",
       "      <td>0.057771</td>\n",
       "      <td>0.272963</td>\n",
       "      <td>-0.211174</td>\n",
       "      <td>-0.021315</td>\n",
       "      <td>0.261477</td>\n",
       "      <td>2.050317</td>\n",
       "      <td>...</td>\n",
       "      <td>-0.108578</td>\n",
       "      <td>-0.081786</td>\n",
       "      <td>-0.127587</td>\n",
       "      <td>-0.093441</td>\n",
       "      <td>2.185810</td>\n",
       "      <td>-0.137651</td>\n",
       "      <td>2.108168</td>\n",
       "      <td>2.221600</td>\n",
       "      <td>2</td>\n",
       "      <td>3</td>\n",
       "    </tr>\n",
       "    <tr>\n",
       "      <th>39050</th>\n",
       "      <td>-0.527179</td>\n",
       "      <td>-0.068426</td>\n",
       "      <td>-0.051737</td>\n",
       "      <td>-0.030840</td>\n",
       "      <td>-0.046494</td>\n",
       "      <td>-0.193358</td>\n",
       "      <td>0.561979</td>\n",
       "      <td>-0.035356</td>\n",
       "      <td>-0.255104</td>\n",
       "      <td>-0.523309</td>\n",
       "      <td>...</td>\n",
       "      <td>-0.109889</td>\n",
       "      <td>-0.081786</td>\n",
       "      <td>-0.128620</td>\n",
       "      <td>-0.094860</td>\n",
       "      <td>-0.458729</td>\n",
       "      <td>-0.137651</td>\n",
       "      <td>-0.466440</td>\n",
       "      <td>-0.442057</td>\n",
       "      <td>8</td>\n",
       "      <td>0</td>\n",
       "    </tr>\n",
       "    <tr>\n",
       "      <th>3505</th>\n",
       "      <td>-0.478726</td>\n",
       "      <td>-0.050851</td>\n",
       "      <td>-0.021667</td>\n",
       "      <td>-0.033088</td>\n",
       "      <td>0.057881</td>\n",
       "      <td>-0.218767</td>\n",
       "      <td>-0.211174</td>\n",
       "      <td>-0.198110</td>\n",
       "      <td>-0.209439</td>\n",
       "      <td>3.620304</td>\n",
       "      <td>...</td>\n",
       "      <td>-0.109889</td>\n",
       "      <td>-0.081786</td>\n",
       "      <td>-0.128620</td>\n",
       "      <td>-0.094860</td>\n",
       "      <td>-0.458729</td>\n",
       "      <td>-0.137651</td>\n",
       "      <td>-0.466440</td>\n",
       "      <td>-0.442057</td>\n",
       "      <td>10</td>\n",
       "      <td>3</td>\n",
       "    </tr>\n",
       "    <tr>\n",
       "      <th>1276</th>\n",
       "      <td>-0.356732</td>\n",
       "      <td>-0.015701</td>\n",
       "      <td>-0.081806</td>\n",
       "      <td>-0.032901</td>\n",
       "      <td>-0.048343</td>\n",
       "      <td>-0.239691</td>\n",
       "      <td>-0.085798</td>\n",
       "      <td>-0.213428</td>\n",
       "      <td>-0.255104</td>\n",
       "      <td>-0.559719</td>\n",
       "      <td>...</td>\n",
       "      <td>-0.107176</td>\n",
       "      <td>-0.081786</td>\n",
       "      <td>-0.126482</td>\n",
       "      <td>-0.091924</td>\n",
       "      <td>-0.262571</td>\n",
       "      <td>-0.137651</td>\n",
       "      <td>-0.275470</td>\n",
       "      <td>-0.244482</td>\n",
       "      <td>11</td>\n",
       "      <td>3</td>\n",
       "    </tr>\n",
       "    <tr>\n",
       "      <th>5506</th>\n",
       "      <td>-0.491277</td>\n",
       "      <td>0.001874</td>\n",
       "      <td>-0.081806</td>\n",
       "      <td>-0.032620</td>\n",
       "      <td>-0.048343</td>\n",
       "      <td>-0.239691</td>\n",
       "      <td>-0.085798</td>\n",
       "      <td>-0.213428</td>\n",
       "      <td>-0.255104</td>\n",
       "      <td>-0.559719</td>\n",
       "      <td>...</td>\n",
       "      <td>-0.109889</td>\n",
       "      <td>-0.081786</td>\n",
       "      <td>-0.128620</td>\n",
       "      <td>-0.094860</td>\n",
       "      <td>-0.458729</td>\n",
       "      <td>-0.137651</td>\n",
       "      <td>-0.466440</td>\n",
       "      <td>-0.442057</td>\n",
       "      <td>12</td>\n",
       "      <td>3</td>\n",
       "    </tr>\n",
       "    <tr>\n",
       "      <th>...</th>\n",
       "      <td>...</td>\n",
       "      <td>...</td>\n",
       "      <td>...</td>\n",
       "      <td>...</td>\n",
       "      <td>...</td>\n",
       "      <td>...</td>\n",
       "      <td>...</td>\n",
       "      <td>...</td>\n",
       "      <td>...</td>\n",
       "      <td>...</td>\n",
       "      <td>...</td>\n",
       "      <td>...</td>\n",
       "      <td>...</td>\n",
       "      <td>...</td>\n",
       "      <td>...</td>\n",
       "      <td>...</td>\n",
       "      <td>...</td>\n",
       "      <td>...</td>\n",
       "      <td>...</td>\n",
       "      <td>...</td>\n",
       "      <td>...</td>\n",
       "    </tr>\n",
       "    <tr>\n",
       "      <th>39250</th>\n",
       "      <td>-0.528464</td>\n",
       "      <td>-0.068426</td>\n",
       "      <td>-0.051737</td>\n",
       "      <td>-0.030653</td>\n",
       "      <td>-0.046952</td>\n",
       "      <td>-0.190369</td>\n",
       "      <td>0.603771</td>\n",
       "      <td>-0.023868</td>\n",
       "      <td>-0.255104</td>\n",
       "      <td>-0.532321</td>\n",
       "      <td>...</td>\n",
       "      <td>-0.109889</td>\n",
       "      <td>-0.081786</td>\n",
       "      <td>-0.128620</td>\n",
       "      <td>-0.094860</td>\n",
       "      <td>-0.458729</td>\n",
       "      <td>-0.137651</td>\n",
       "      <td>-0.466440</td>\n",
       "      <td>-0.442057</td>\n",
       "      <td>979</td>\n",
       "      <td>0</td>\n",
       "    </tr>\n",
       "    <tr>\n",
       "      <th>3413</th>\n",
       "      <td>-0.196265</td>\n",
       "      <td>-0.015701</td>\n",
       "      <td>-0.081806</td>\n",
       "      <td>-0.032901</td>\n",
       "      <td>-0.048343</td>\n",
       "      <td>-0.239691</td>\n",
       "      <td>-0.085798</td>\n",
       "      <td>-0.213428</td>\n",
       "      <td>-0.255104</td>\n",
       "      <td>-0.559719</td>\n",
       "      <td>...</td>\n",
       "      <td>-0.108514</td>\n",
       "      <td>-0.081786</td>\n",
       "      <td>-0.127536</td>\n",
       "      <td>-0.093372</td>\n",
       "      <td>-0.079160</td>\n",
       "      <td>-0.137651</td>\n",
       "      <td>-0.096908</td>\n",
       "      <td>-0.059744</td>\n",
       "      <td>982</td>\n",
       "      <td>3</td>\n",
       "    </tr>\n",
       "    <tr>\n",
       "      <th>52597</th>\n",
       "      <td>-0.528295</td>\n",
       "      <td>-0.015701</td>\n",
       "      <td>-0.081806</td>\n",
       "      <td>-0.034306</td>\n",
       "      <td>-0.048343</td>\n",
       "      <td>-0.248659</td>\n",
       "      <td>-0.211174</td>\n",
       "      <td>-0.247894</td>\n",
       "      <td>-0.255104</td>\n",
       "      <td>-0.559719</td>\n",
       "      <td>...</td>\n",
       "      <td>-0.109889</td>\n",
       "      <td>-0.081786</td>\n",
       "      <td>-0.128620</td>\n",
       "      <td>-0.094860</td>\n",
       "      <td>-0.458729</td>\n",
       "      <td>-0.137651</td>\n",
       "      <td>-0.466440</td>\n",
       "      <td>-0.442057</td>\n",
       "      <td>991</td>\n",
       "      <td>3</td>\n",
       "    </tr>\n",
       "    <tr>\n",
       "      <th>27330</th>\n",
       "      <td>-0.528468</td>\n",
       "      <td>-0.068426</td>\n",
       "      <td>-0.051737</td>\n",
       "      <td>-0.034119</td>\n",
       "      <td>-0.048233</td>\n",
       "      <td>-0.245670</td>\n",
       "      <td>-0.169382</td>\n",
       "      <td>-0.236405</td>\n",
       "      <td>-0.255104</td>\n",
       "      <td>-0.557556</td>\n",
       "      <td>...</td>\n",
       "      <td>-0.109889</td>\n",
       "      <td>-0.081786</td>\n",
       "      <td>-0.128620</td>\n",
       "      <td>-0.094860</td>\n",
       "      <td>-0.458729</td>\n",
       "      <td>-0.137651</td>\n",
       "      <td>-0.466440</td>\n",
       "      <td>-0.442057</td>\n",
       "      <td>997</td>\n",
       "      <td>0</td>\n",
       "    </tr>\n",
       "    <tr>\n",
       "      <th>15565</th>\n",
       "      <td>-0.528469</td>\n",
       "      <td>-0.086001</td>\n",
       "      <td>-0.066771</td>\n",
       "      <td>-0.034212</td>\n",
       "      <td>-0.048288</td>\n",
       "      <td>-0.245670</td>\n",
       "      <td>-0.169382</td>\n",
       "      <td>-0.236405</td>\n",
       "      <td>-0.255104</td>\n",
       "      <td>-0.557556</td>\n",
       "      <td>...</td>\n",
       "      <td>-0.109889</td>\n",
       "      <td>-0.081786</td>\n",
       "      <td>-0.128620</td>\n",
       "      <td>-0.094860</td>\n",
       "      <td>-0.458729</td>\n",
       "      <td>-0.137651</td>\n",
       "      <td>-0.466440</td>\n",
       "      <td>-0.442057</td>\n",
       "      <td>999</td>\n",
       "      <td>5</td>\n",
       "    </tr>\n",
       "  </tbody>\n",
       "</table>\n",
       "<p>315 rows × 79 columns</p>\n",
       "</div>"
      ],
      "text/plain": [
       "       Flow Duration  Total Fwd Packets  Total Backward Packets  \\\n",
       "42168       1.789626           0.054600                0.008402   \n",
       "39050      -0.527179          -0.068426               -0.051737   \n",
       "3505       -0.478726          -0.050851               -0.021667   \n",
       "1276       -0.356732          -0.015701               -0.081806   \n",
       "5506       -0.491277           0.001874               -0.081806   \n",
       "...              ...                ...                     ...   \n",
       "39250      -0.528464          -0.068426               -0.051737   \n",
       "3413       -0.196265          -0.015701               -0.081806   \n",
       "52597      -0.528295          -0.015701               -0.081806   \n",
       "27330      -0.528468          -0.068426               -0.051737   \n",
       "15565      -0.528469          -0.086001               -0.066771   \n",
       "\n",
       "       Total Length of Fwd Packets  Total Length of Bwd Packets  \\\n",
       "42168                    -0.017680                     0.057771   \n",
       "39050                    -0.030840                    -0.046494   \n",
       "3505                     -0.033088                     0.057881   \n",
       "1276                     -0.032901                    -0.048343   \n",
       "5506                     -0.032620                    -0.048343   \n",
       "...                            ...                          ...   \n",
       "39250                    -0.030653                    -0.046952   \n",
       "3413                     -0.032901                    -0.048343   \n",
       "52597                    -0.034306                    -0.048343   \n",
       "27330                    -0.034119                    -0.048233   \n",
       "15565                    -0.034212                    -0.048288   \n",
       "\n",
       "       Fwd Packet Length Max  Fwd Packet Length Min  Fwd Packet Length Mean  \\\n",
       "42168               0.272963              -0.211174               -0.021315   \n",
       "39050              -0.193358               0.561979               -0.035356   \n",
       "3505               -0.218767              -0.211174               -0.198110   \n",
       "1276               -0.239691              -0.085798               -0.213428   \n",
       "5506               -0.239691              -0.085798               -0.213428   \n",
       "...                      ...                    ...                     ...   \n",
       "39250              -0.190369               0.603771               -0.023868   \n",
       "3413               -0.239691              -0.085798               -0.213428   \n",
       "52597              -0.248659              -0.211174               -0.247894   \n",
       "27330              -0.245670              -0.169382               -0.236405   \n",
       "15565              -0.245670              -0.169382               -0.236405   \n",
       "\n",
       "       Fwd Packet Length Std  Bwd Packet Length Max  ...  Active Mean  \\\n",
       "42168               0.261477               2.050317  ...    -0.108578   \n",
       "39050              -0.255104              -0.523309  ...    -0.109889   \n",
       "3505               -0.209439               3.620304  ...    -0.109889   \n",
       "1276               -0.255104              -0.559719  ...    -0.107176   \n",
       "5506               -0.255104              -0.559719  ...    -0.109889   \n",
       "...                      ...                    ...  ...          ...   \n",
       "39250              -0.255104              -0.532321  ...    -0.109889   \n",
       "3413               -0.255104              -0.559719  ...    -0.108514   \n",
       "52597              -0.255104              -0.559719  ...    -0.109889   \n",
       "27330              -0.255104              -0.557556  ...    -0.109889   \n",
       "15565              -0.255104              -0.557556  ...    -0.109889   \n",
       "\n",
       "       Active Std  Active Max  Active Min  Idle Mean  Idle Std  Idle Max  \\\n",
       "42168   -0.081786   -0.127587   -0.093441   2.185810 -0.137651  2.108168   \n",
       "39050   -0.081786   -0.128620   -0.094860  -0.458729 -0.137651 -0.466440   \n",
       "3505    -0.081786   -0.128620   -0.094860  -0.458729 -0.137651 -0.466440   \n",
       "1276    -0.081786   -0.126482   -0.091924  -0.262571 -0.137651 -0.275470   \n",
       "5506    -0.081786   -0.128620   -0.094860  -0.458729 -0.137651 -0.466440   \n",
       "...           ...         ...         ...        ...       ...       ...   \n",
       "39250   -0.081786   -0.128620   -0.094860  -0.458729 -0.137651 -0.466440   \n",
       "3413    -0.081786   -0.127536   -0.093372  -0.079160 -0.137651 -0.096908   \n",
       "52597   -0.081786   -0.128620   -0.094860  -0.458729 -0.137651 -0.466440   \n",
       "27330   -0.081786   -0.128620   -0.094860  -0.458729 -0.137651 -0.466440   \n",
       "15565   -0.081786   -0.128620   -0.094860  -0.458729 -0.137651 -0.466440   \n",
       "\n",
       "       Idle Min  klabel  Label  \n",
       "42168  2.221600       2      3  \n",
       "39050 -0.442057       8      0  \n",
       "3505  -0.442057      10      3  \n",
       "1276  -0.244482      11      3  \n",
       "5506  -0.442057      12      3  \n",
       "...         ...     ...    ...  \n",
       "39250 -0.442057     979      0  \n",
       "3413  -0.059744     982      3  \n",
       "52597 -0.442057     991      3  \n",
       "27330 -0.442057     997      0  \n",
       "15565 -0.442057     999      5  \n",
       "\n",
       "[315 rows x 79 columns]"
      ]
     },
     "execution_count": 19,
     "metadata": {},
     "output_type": "execute_result"
    }
   ],
   "source": [
    "result"
   ]
  },
  {
   "cell_type": "markdown",
   "metadata": {},
   "source": [
    "## 4371 Had to modify the file below because the recommended way to combine DataFrames in recent versions of pandas is by using the pandas.concat() function"
   ]
  },
  {
   "cell_type": "code",
   "execution_count": 20,
   "metadata": {},
   "outputs": [
    {
     "name": "stdout",
     "output_type": "stream",
     "text": [
      "DataFrames concatenated successfully.\n",
      "Updated DataFrame head:\n",
      "   Flow Duration  Total Fwd Packets  Total Backward Packets  \\\n",
      "0       1.789626           0.054600                0.008402   \n",
      "1      -0.527179          -0.068426               -0.051737   \n",
      "2      -0.478726          -0.050851               -0.021667   \n",
      "3      -0.356732          -0.015701               -0.081806   \n",
      "4      -0.491277           0.001874               -0.081806   \n",
      "\n",
      "   Total Length of Fwd Packets  Total Length of Bwd Packets  \\\n",
      "0                    -0.017680                     0.057771   \n",
      "1                    -0.030840                    -0.046494   \n",
      "2                    -0.033088                     0.057881   \n",
      "3                    -0.032901                    -0.048343   \n",
      "4                    -0.032620                    -0.048343   \n",
      "\n",
      "   Fwd Packet Length Max  Fwd Packet Length Min  Fwd Packet Length Mean  \\\n",
      "0               0.272963              -0.211174               -0.021315   \n",
      "1              -0.193358               0.561979               -0.035356   \n",
      "2              -0.218767              -0.211174               -0.198110   \n",
      "3              -0.239691              -0.085798               -0.213428   \n",
      "4              -0.239691              -0.085798               -0.213428   \n",
      "\n",
      "   Fwd Packet Length Std  Bwd Packet Length Max  ...  Active Mean  Active Std  \\\n",
      "0               0.261477               2.050317  ...    -0.108578   -0.081786   \n",
      "1              -0.255104              -0.523309  ...    -0.109889   -0.081786   \n",
      "2              -0.209439               3.620304  ...    -0.109889   -0.081786   \n",
      "3              -0.255104              -0.559719  ...    -0.107176   -0.081786   \n",
      "4              -0.255104              -0.559719  ...    -0.109889   -0.081786   \n",
      "\n",
      "   Active Max  Active Min  Idle Mean  Idle Std  Idle Max  Idle Min  klabel  \\\n",
      "0   -0.127587   -0.093441   2.185810 -0.137651  2.108168  2.221600     2.0   \n",
      "1   -0.128620   -0.094860  -0.458729 -0.137651 -0.466440 -0.442057     8.0   \n",
      "2   -0.128620   -0.094860  -0.458729 -0.137651 -0.466440 -0.442057    10.0   \n",
      "3   -0.126482   -0.091924  -0.262571 -0.137651 -0.275470 -0.244482    11.0   \n",
      "4   -0.128620   -0.094860  -0.458729 -0.137651 -0.466440 -0.442057    12.0   \n",
      "\n",
      "   Label  \n",
      "0      3  \n",
      "1      0  \n",
      "2      3  \n",
      "3      3  \n",
      "4      3  \n",
      "\n",
      "[5 rows x 79 columns]\n"
     ]
    }
   ],
   "source": [
    "import pandas as pd\n",
    "\n",
    "# Assuming 'result' and 'df_minor' are already defined and loaded\n",
    "\n",
    "# No need to drop 'klabel' since it doesn't exist\n",
    "# If you need to drop another column, ensure it exists\n",
    "# For example, to drop 'Label' (only if intended, which is usually not the case):\n",
    "# result = result.drop(['Label'], axis=1)\n",
    "\n",
    "# Concatenate 'result' and 'df_minor' DataFrames\n",
    "result = pd.concat([result, df_minor], ignore_index=True)\n",
    "\n",
    "print(\"DataFrames concatenated successfully.\")\n",
    "print(\"Updated DataFrame head:\")\n",
    "print(result.head())"
   ]
  },
  {
   "cell_type": "code",
   "execution_count": 21,
   "metadata": {},
   "outputs": [],
   "source": [
    "result.to_csv('./data/CICIDS2017_sample_km.csv',index=0)"
   ]
  },
  {
   "cell_type": "markdown",
   "metadata": {},
   "source": [
    "### split train set and test set"
   ]
  },
  {
   "cell_type": "code",
   "execution_count": 22,
   "metadata": {},
   "outputs": [
    {
     "name": "stdout",
     "output_type": "stream",
     "text": [
      "Flow Duration                     0\n",
      "Total Fwd Packets                 0\n",
      "Total Backward Packets            0\n",
      "Total Length of Fwd Packets       0\n",
      "Total Length of Bwd Packets       0\n",
      "                               ... \n",
      "Idle Std                          0\n",
      "Idle Max                          0\n",
      "Idle Min                          0\n",
      "klabel                         4182\n",
      "Label                             0\n",
      "Length: 79, dtype: int64\n"
     ]
    }
   ],
   "source": [
    "# Read the sampled dataset\n",
    "df=pd.read_csv('./data/CICIDS2017_sample_km.csv')\n",
    "print(df.isnull().sum())"
   ]
  },
  {
   "cell_type": "markdown",
   "metadata": {},
   "source": [
    "## ----- ADDED LINES BELOW 4371 TO FIX ISSUE WITH ValueError: Input X contains NaN. ------"
   ]
  },
  {
   "cell_type": "code",
   "execution_count": 23,
   "metadata": {},
   "outputs": [],
   "source": [
    "from sklearn.impute import SimpleImputer\n",
    "\n",
    "# Create an imputer object with the desired strategy (mean, median, most_frequent)\n",
    "imputer = SimpleImputer(strategy='mean')\n",
    "\n",
    "# Apply the imputer to the DataFrame\n",
    "df[df.columns] = imputer.fit_transform(df)\n",
    "\n",
    "# fixed the issue by using SimpleImputer to replace the NaN values in your dataset with \n",
    "# meaningful statistical estimates (like the mean of each feature column). This transformation eliminated missing \n",
    "# values from the dataset, which allowed mutual_info_classif to execute without errors."
   ]
  },
  {
   "cell_type": "code",
   "execution_count": 24,
   "metadata": {},
   "outputs": [],
   "source": [
    "X = df.drop(['Label'],axis=1).values\n",
    "y = df.iloc[:, -1].values.reshape(-1,1)\n",
    "y=np.ravel(y)"
   ]
  },
  {
   "cell_type": "code",
   "execution_count": 25,
   "metadata": {},
   "outputs": [],
   "source": [
    "X_train, X_test, y_train, y_test = train_test_split(X,y, train_size = 0.8, test_size = 0.2, random_state = 0,stratify = y)"
   ]
  },
  {
   "cell_type": "markdown",
   "metadata": {},
   "source": [
    "## Feature engineering"
   ]
  },
  {
   "cell_type": "markdown",
   "metadata": {},
   "source": [
    "### Feature selection by information gain"
   ]
  },
  {
   "cell_type": "code",
   "execution_count": 26,
   "metadata": {},
   "outputs": [],
   "source": [
    "from sklearn.feature_selection import mutual_info_classif\n",
    "importances = mutual_info_classif(X_train, y_train)"
   ]
  },
  {
   "cell_type": "code",
   "execution_count": 27,
   "metadata": {},
   "outputs": [],
   "source": [
    "# calculate the sum of importance scores\n",
    "f_list = sorted(zip(map(lambda x: round(x, 4), importances), features), reverse=True)\n",
    "Sum = 0\n",
    "fs = []\n",
    "for i in range(0, len(f_list)):\n",
    "    Sum = Sum + f_list[i][0]\n",
    "    fs.append(f_list[i][1])"
   ]
  },
  {
   "cell_type": "code",
   "execution_count": 28,
   "metadata": {},
   "outputs": [],
   "source": [
    "# select the important features from top to bottom until the accumulated importance reaches 90%\n",
    "f_list2 = sorted(zip(map(lambda x: round(x, 4), importances/Sum), features), reverse=True)\n",
    "Sum2 = 0\n",
    "fs = []\n",
    "for i in range(0, len(f_list2)):\n",
    "    Sum2 = Sum2 + f_list2[i][0]\n",
    "    fs.append(f_list2[i][1])\n",
    "    if Sum2>=0.9:\n",
    "        break        "
   ]
  },
  {
   "cell_type": "code",
   "execution_count": 29,
   "metadata": {},
   "outputs": [],
   "source": [
    "X_fs = df[fs].values"
   ]
  },
  {
   "cell_type": "code",
   "execution_count": 30,
   "metadata": {},
   "outputs": [
    {
     "data": {
      "text/plain": [
       "(4497, 42)"
      ]
     },
     "execution_count": 30,
     "metadata": {},
     "output_type": "execute_result"
    }
   ],
   "source": [
    "X_fs.shape"
   ]
  },
  {
   "cell_type": "markdown",
   "metadata": {},
   "source": [
    "### Feature selection by Fast Correlation Based Filter (FCBF)\n",
    "\n",
    "The module is imported from the GitHub repo: https://github.com/SantiagoEG/FCBF_module"
   ]
  },
  {
   "cell_type": "code",
   "execution_count": 31,
   "metadata": {},
   "outputs": [],
   "source": [
    "from FCBF_module import FCBF, FCBFK, FCBFiP, get_i\n",
    "fcbf = FCBFK(k = 20)\n",
    "#fcbf.fit(X_fs, y)"
   ]
  },
  {
   "cell_type": "code",
   "execution_count": 32,
   "metadata": {},
   "outputs": [],
   "source": [
    "X_fss = fcbf.fit_transform(X_fs,y)"
   ]
  },
  {
   "cell_type": "code",
   "execution_count": 33,
   "metadata": {},
   "outputs": [
    {
     "data": {
      "text/plain": [
       "(4497, 20)"
      ]
     },
     "execution_count": 33,
     "metadata": {},
     "output_type": "execute_result"
    }
   ],
   "source": [
    "X_fss.shape"
   ]
  },
  {
   "cell_type": "markdown",
   "metadata": {},
   "source": [
    "### Re-split train & test sets after feature selection"
   ]
  },
  {
   "cell_type": "code",
   "execution_count": 34,
   "metadata": {},
   "outputs": [],
   "source": [
    "X_train, X_test, y_train, y_test = train_test_split(X_fss,y, train_size = 0.8, test_size = 0.2, random_state = 0,stratify = y)"
   ]
  },
  {
   "cell_type": "code",
   "execution_count": 35,
   "metadata": {},
   "outputs": [
    {
     "data": {
      "text/plain": [
       "(3597, 20)"
      ]
     },
     "execution_count": 35,
     "metadata": {},
     "output_type": "execute_result"
    }
   ],
   "source": [
    "X_train.shape"
   ]
  },
  {
   "cell_type": "code",
   "execution_count": 36,
   "metadata": {},
   "outputs": [
    {
     "data": {
      "text/plain": [
       "6.0    1744\n",
       "1.0    1572\n",
       "3.0      98\n",
       "0.0      95\n",
       "5.0      45\n",
       "4.0      29\n",
       "2.0      14\n",
       "Name: count, dtype: int64"
      ]
     },
     "execution_count": 36,
     "metadata": {},
     "output_type": "execute_result"
    }
   ],
   "source": [
    "pd.Series(y_train).value_counts()"
   ]
  },
  {
   "cell_type": "markdown",
   "metadata": {},
   "source": [
    "### SMOTE to solve class-imbalance"
   ]
  },
  {
   "cell_type": "code",
   "execution_count": 37,
   "metadata": {},
   "outputs": [],
   "source": [
    "from imblearn.over_sampling import SMOTE\n",
    "smote=SMOTE(n_jobs=-1,sampling_strategy={2:1000,4:1000})"
   ]
  },
  {
   "cell_type": "code",
   "execution_count": 38,
   "metadata": {},
   "outputs": [],
   "source": [
    "X_train, y_train = smote.fit_resample(X_train, y_train)"
   ]
  },
  {
   "cell_type": "code",
   "execution_count": 39,
   "metadata": {},
   "outputs": [
    {
     "data": {
      "text/plain": [
       "6.0    1744\n",
       "1.0    1572\n",
       "2.0    1000\n",
       "4.0    1000\n",
       "3.0      98\n",
       "0.0      95\n",
       "5.0      45\n",
       "Name: count, dtype: int64"
      ]
     },
     "execution_count": 39,
     "metadata": {},
     "output_type": "execute_result"
    }
   ],
   "source": [
    "pd.Series(y_train).value_counts()"
   ]
  },
  {
   "cell_type": "markdown",
   "metadata": {},
   "source": [
    "## Machine learning model training"
   ]
  },
  {
   "cell_type": "markdown",
   "metadata": {},
   "source": [
    "### Training four base learners: decision tree, random forest, extra trees, XGBoost"
   ]
  },
  {
   "cell_type": "markdown",
   "metadata": {},
   "source": [
    "#### Apply XGBoost"
   ]
  },
  {
   "cell_type": "code",
   "execution_count": 40,
   "metadata": {},
   "outputs": [
    {
     "name": "stdout",
     "output_type": "stream",
     "text": [
      "Accuracy of XGBoost: 0.9922222222222222\n",
      "Precision of XGBoost: 0.9923774196323777\n",
      "Recall of XGBoost: 0.9922222222222222\n",
      "F1-score of XGBoost: 0.9920108590854637\n",
      "              precision    recall  f1-score   support\n",
      "\n",
      "         0.0       0.95      0.79      0.86        24\n",
      "         1.0       0.99      1.00      1.00       394\n",
      "         2.0       0.80      1.00      0.89         4\n",
      "         3.0       1.00      0.96      0.98        24\n",
      "         4.0       0.88      1.00      0.93         7\n",
      "         5.0       1.00      1.00      1.00        11\n",
      "         6.0       1.00      1.00      1.00       436\n",
      "\n",
      "    accuracy                           0.99       900\n",
      "   macro avg       0.95      0.96      0.95       900\n",
      "weighted avg       0.99      0.99      0.99       900\n",
      "\n"
     ]
    },
    {
     "data": {
      "image/png": "[encoded data removed]",
      "text/plain": [
       "<Figure size 500x500 with 2 Axes>"
      ]
     },
     "metadata": {},
     "output_type": "display_data"
    }
   ],
   "source": [
    "xg = xgb.XGBClassifier(n_estimators = 10)\n",
    "xg.fit(X_train,y_train)\n",
    "xg_score=xg.score(X_test,y_test)\n",
    "y_predict=xg.predict(X_test)\n",
    "y_true=y_test\n",
    "print('Accuracy of XGBoost: '+ str(xg_score))\n",
    "precision,recall,fscore,none= precision_recall_fscore_support(y_true, y_predict, average='weighted') \n",
    "print('Precision of XGBoost: '+(str(precision)))\n",
    "print('Recall of XGBoost: '+(str(recall)))\n",
    "print('F1-score of XGBoost: '+(str(fscore)))\n",
    "print(classification_report(y_true,y_predict))\n",
    "cm=confusion_matrix(y_true,y_predict)\n",
    "f,ax=plt.subplots(figsize=(5,5))\n",
    "sns.heatmap(cm,annot=True,linewidth=0.5,linecolor=\"red\",fmt=\".0f\",ax=ax)\n",
    "plt.xlabel(\"y_pred\")\n",
    "plt.ylabel(\"y_true\")\n",
    "plt.show()"
   ]
  },
  {
   "cell_type": "markdown",
   "metadata": {
    "jp-MarkdownHeadingCollapsed": true
   },
   "source": [
    "#### Hyperparameter optimization (HPO) of XGBoost using Bayesian optimization with tree-based Parzen estimator (BO-TPE)\n",
    "Based on the GitHub repo for HPO: https://github.com/LiYangHart/Hyperparameter-Optimization-of-Machine-Learning-Algorithms"
   ]
  },
  {
   "cell_type": "code",
   "execution_count": 41,
   "metadata": {},
   "outputs": [
    {
     "name": "stdout",
     "output_type": "stream",
     "text": [
      "Requirement already satisfied: hyperopt in c:\\users\\logan\\anaconda3\\envs\\myenv\\lib\\site-packages (0.2.7)\n",
      "Requirement already satisfied: numpy in c:\\users\\logan\\anaconda3\\envs\\myenv\\lib\\site-packages (from hyperopt) (1.26.4)\n",
      "Requirement already satisfied: scipy in c:\\users\\logan\\anaconda3\\envs\\myenv\\lib\\site-packages (from hyperopt) (1.14.1)\n",
      "Requirement already satisfied: six in c:\\users\\logan\\anaconda3\\envs\\myenv\\lib\\site-packages (from hyperopt) (1.16.0)\n",
      "Requirement already satisfied: networkx>=2.2 in c:\\users\\logan\\anaconda3\\envs\\myenv\\lib\\site-packages (from hyperopt) (3.4.2)\n",
      "Requirement already satisfied: future in c:\\users\\logan\\anaconda3\\envs\\myenv\\lib\\site-packages (from hyperopt) (1.0.0)\n",
      "Requirement already satisfied: tqdm in c:\\users\\logan\\anaconda3\\envs\\myenv\\lib\\site-packages (from hyperopt) (4.67.0)\n",
      "Requirement already satisfied: cloudpickle in c:\\users\\logan\\anaconda3\\envs\\myenv\\lib\\site-packages (from hyperopt) (3.1.0)\n",
      "Requirement already satisfied: py4j in c:\\users\\logan\\anaconda3\\envs\\myenv\\lib\\site-packages (from hyperopt) (0.10.9.7)\n",
      "Requirement already satisfied: colorama in c:\\users\\logan\\anaconda3\\envs\\myenv\\lib\\site-packages (from tqdm->hyperopt) (0.4.6)\n"
     ]
    }
   ],
   "source": [
    "!pip install hyperopt"
   ]
  },
  {
   "cell_type": "code",
   "execution_count": 42,
   "metadata": {},
   "outputs": [
    {
     "name": "stdout",
     "output_type": "stream",
     "text": [
      "100%|███████████████████████████████████████████████| 20/20 [00:02<00:00,  7.32trial/s, best loss: -0.9944444444444445]\n",
      "XGBoost: Hyperopt estimated optimum {'learning_rate': -1.0296951972920108, 'max_depth': 21.0, 'n_estimators': 80.0}\n"
     ]
    }
   ],
   "source": [
    "from hyperopt import hp, fmin, tpe, STATUS_OK, Trials\n",
    "from sklearn.model_selection import cross_val_score, StratifiedKFold\n",
    "def objective(params):\n",
    "    params = {\n",
    "        'n_estimators': int(params['n_estimators']), \n",
    "        'max_depth': int(params['max_depth']),\n",
    "        'learning_rate':  abs(float(params['learning_rate'])),\n",
    "\n",
    "    }\n",
    "    clf = xgb.XGBClassifier( **params)\n",
    "    clf.fit(X_train, y_train)\n",
    "    y_pred = clf.predict(X_test)\n",
    "    score = accuracy_score(y_test, y_pred)\n",
    "\n",
    "    return {'loss':-score, 'status': STATUS_OK }\n",
    "\n",
    "space = {\n",
    "    'n_estimators': hp.quniform('n_estimators', 10, 100, 5),\n",
    "    'max_depth': hp.quniform('max_depth', 4, 100, 1),\n",
    "    'learning_rate': hp.normal('learning_rate', 0.01, 0.9),\n",
    "}\n",
    "\n",
    "best = fmin(fn=objective,\n",
    "            space=space,\n",
    "            algo=tpe.suggest,\n",
    "            max_evals=20)\n",
    "print(\"XGBoost: Hyperopt estimated optimum {}\".format(best))"
   ]
  },
  {
   "cell_type": "code",
   "execution_count": 43,
   "metadata": {},
   "outputs": [
    {
     "name": "stdout",
     "output_type": "stream",
     "text": [
      "Accuracy of XGBoost: 0.9944444444444445\n",
      "Precision of XGBoost: 0.9947045454545455\n",
      "Recall of XGBoost: 0.9944444444444445\n",
      "F1-score of XGBoost: 0.9944465915190552\n",
      "              precision    recall  f1-score   support\n",
      "\n",
      "         0.0       0.95      0.88      0.91        24\n",
      "         1.0       1.00      1.00      1.00       394\n",
      "         2.0       0.80      1.00      0.89         4\n",
      "         3.0       1.00      1.00      1.00        24\n",
      "         4.0       0.88      1.00      0.93         7\n",
      "         5.0       1.00      1.00      1.00        11\n",
      "         6.0       1.00      1.00      1.00       436\n",
      "\n",
      "    accuracy                           0.99       900\n",
      "   macro avg       0.95      0.98      0.96       900\n",
      "weighted avg       0.99      0.99      0.99       900\n",
      "\n"
     ]
    },
    {
     "data": {
      "image/png": "[encoded data removed]",
      "text/plain": [
       "<Figure size 500x500 with 2 Axes>"
      ]
     },
     "metadata": {},
     "output_type": "display_data"
    }
   ],
   "source": [
    "xg = xgb.XGBClassifier(learning_rate= 0.7340229699980686, n_estimators = 70, max_depth = 14)\n",
    "xg.fit(X_train,y_train)\n",
    "xg_score=xg.score(X_test,y_test)\n",
    "y_predict=xg.predict(X_test)\n",
    "y_true=y_test\n",
    "print('Accuracy of XGBoost: '+ str(xg_score))\n",
    "precision,recall,fscore,none= precision_recall_fscore_support(y_true, y_predict, average='weighted') \n",
    "print('Precision of XGBoost: '+(str(precision)))\n",
    "print('Recall of XGBoost: '+(str(recall)))\n",
    "print('F1-score of XGBoost: '+(str(fscore)))\n",
    "print(classification_report(y_true,y_predict))\n",
    "cm=confusion_matrix(y_true,y_predict)\n",
    "f,ax=plt.subplots(figsize=(5,5))\n",
    "sns.heatmap(cm,annot=True,linewidth=0.5,linecolor=\"red\",fmt=\".0f\",ax=ax)\n",
    "plt.xlabel(\"y_pred\")\n",
    "plt.ylabel(\"y_true\")\n",
    "plt.show()"
   ]
  },
  {
   "cell_type": "code",
   "execution_count": 44,
   "metadata": {},
   "outputs": [],
   "source": [
    "xg_train=xg.predict(X_train)\n",
    "xg_test=xg.predict(X_test)"
   ]
  },
  {
   "cell_type": "markdown",
   "metadata": {},
   "source": [
    "#### Apply RF"
   ]
  },
  {
   "cell_type": "code",
   "execution_count": 45,
   "metadata": {},
   "outputs": [
    {
     "name": "stdout",
     "output_type": "stream",
     "text": [
      "Accuracy of RF: 0.9944444444444445\n",
      "Precision of RF: 0.9954545915778792\n",
      "Recall of RF: 0.9944444444444445\n",
      "F1-score of RF: 0.9945383785622656\n",
      "              precision    recall  f1-score   support\n",
      "\n",
      "         0.0       1.00      0.83      0.91        24\n",
      "         1.0       1.00      1.00      1.00       394\n",
      "         2.0       1.00      1.00      1.00         4\n",
      "         3.0       1.00      1.00      1.00        24\n",
      "         4.0       0.70      1.00      0.82         7\n",
      "         5.0       1.00      1.00      1.00        11\n",
      "         6.0       1.00      1.00      1.00       436\n",
      "\n",
      "    accuracy                           0.99       900\n",
      "   macro avg       0.96      0.98      0.96       900\n",
      "weighted avg       1.00      0.99      0.99       900\n",
      "\n"
     ]
    },
    {
     "data": {
      "image/png": "[encoded data removed]",
      "text/plain": [
       "<Figure size 500x500 with 2 Axes>"
      ]
     },
     "metadata": {},
     "output_type": "display_data"
    }
   ],
   "source": [
    "rf = RandomForestClassifier(random_state = 0)\n",
    "rf.fit(X_train,y_train) \n",
    "rf_score=rf.score(X_test,y_test)\n",
    "y_predict=rf.predict(X_test)\n",
    "y_true=y_test\n",
    "print('Accuracy of RF: '+ str(rf_score))\n",
    "precision,recall,fscore,none= precision_recall_fscore_support(y_true, y_predict, average='weighted') \n",
    "print('Precision of RF: '+(str(precision)))\n",
    "print('Recall of RF: '+(str(recall)))\n",
    "print('F1-score of RF: '+(str(fscore)))\n",
    "print(classification_report(y_true,y_predict))\n",
    "cm=confusion_matrix(y_true,y_predict)\n",
    "f,ax=plt.subplots(figsize=(5,5))\n",
    "sns.heatmap(cm,annot=True,linewidth=0.5,linecolor=\"red\",fmt=\".0f\",ax=ax)\n",
    "plt.xlabel(\"y_pred\")\n",
    "plt.ylabel(\"y_true\")\n",
    "plt.show()"
   ]
  },
  {
   "cell_type": "markdown",
   "metadata": {},
   "source": [
    "#### Hyperparameter optimization (HPO) of random forest using Bayesian optimization with tree-based Parzen estimator (BO-TPE)\n",
    "Based on the GitHub repo for HPO: https://github.com/LiYangHart/Hyperparameter-Optimization-of-Machine-Learning-Algorithms"
   ]
  },
  {
   "cell_type": "code",
   "execution_count": 46,
   "metadata": {},
   "outputs": [
    {
     "name": "stdout",
     "output_type": "stream",
     "text": [
      "100%|███████████████████████████████████████████████| 20/20 [00:18<00:00,  1.08trial/s, best loss: -0.9933333333333333]\n",
      "Random Forest: Hyperopt estimated optimum {'criterion': 1, 'max_depth': 32.0, 'max_features': 9.0, 'min_samples_leaf': 1.0, 'min_samples_split': 5.0, 'n_estimators': 181.0}\n"
     ]
    }
   ],
   "source": [
    "# Hyperparameter optimization of random forest\n",
    "from hyperopt import hp, fmin, tpe, STATUS_OK, Trials\n",
    "from sklearn.model_selection import cross_val_score, StratifiedKFold\n",
    "# Define the objective function\n",
    "def objective(params):\n",
    "    params = {\n",
    "        'n_estimators': int(params['n_estimators']), \n",
    "        'max_depth': int(params['max_depth']),\n",
    "        'max_features': int(params['max_features']),\n",
    "        \"min_samples_split\":int(params['min_samples_split']),\n",
    "        \"min_samples_leaf\":int(params['min_samples_leaf']),\n",
    "        \"criterion\":str(params['criterion'])\n",
    "    }\n",
    "    clf = RandomForestClassifier( **params)\n",
    "    clf.fit(X_train,y_train)\n",
    "    score=clf.score(X_test,y_test)\n",
    "\n",
    "    return {'loss':-score, 'status': STATUS_OK }\n",
    "# Define the hyperparameter configuration space\n",
    "space = {\n",
    "    'n_estimators': hp.quniform('n_estimators', 10, 200, 1),\n",
    "    'max_depth': hp.quniform('max_depth', 5, 50, 1),\n",
    "    \"max_features\":hp.quniform('max_features', 1, 20, 1),\n",
    "    \"min_samples_split\":hp.quniform('min_samples_split',2,11,1),\n",
    "    \"min_samples_leaf\":hp.quniform('min_samples_leaf',1,11,1),\n",
    "    \"criterion\":hp.choice('criterion',['gini','entropy'])\n",
    "}\n",
    "\n",
    "best = fmin(fn=objective,\n",
    "            space=space,\n",
    "            algo=tpe.suggest,\n",
    "            max_evals=20)\n",
    "print(\"Random Forest: Hyperopt estimated optimum {}\".format(best))"
   ]
  },
  {
   "cell_type": "code",
   "execution_count": 47,
   "metadata": {},
   "outputs": [
    {
     "name": "stdout",
     "output_type": "stream",
     "text": [
      "Accuracy of RF: 0.9922222222222222\n",
      "Precision of RF: 0.9930252871969119\n",
      "Recall of RF: 0.9922222222222222\n",
      "F1-score of RF: 0.9923704942039341\n",
      "              precision    recall  f1-score   support\n",
      "\n",
      "         0.0       0.91      0.83      0.87        24\n",
      "         1.0       1.00      0.99      1.00       394\n",
      "         2.0       1.00      1.00      1.00         4\n",
      "         3.0       1.00      1.00      1.00        24\n",
      "         4.0       0.70      1.00      0.82         7\n",
      "         5.0       1.00      1.00      1.00        11\n",
      "         6.0       1.00      1.00      1.00       436\n",
      "\n",
      "    accuracy                           0.99       900\n",
      "   macro avg       0.94      0.98      0.96       900\n",
      "weighted avg       0.99      0.99      0.99       900\n",
      "\n"
     ]
    },
    {
     "data": {
      "image/png": "[encoded data removed]",
      "text/plain": [
       "<Figure size 500x500 with 2 Axes>"
      ]
     },
     "metadata": {},
     "output_type": "display_data"
    }
   ],
   "source": [
    "rf_hpo = RandomForestClassifier(n_estimators = 71, min_samples_leaf = 1, max_depth = 46, min_samples_split = 9, max_features = 20, criterion = 'entropy')\n",
    "rf_hpo.fit(X_train,y_train)\n",
    "rf_score=rf_hpo.score(X_test,y_test)\n",
    "y_predict=rf_hpo.predict(X_test)\n",
    "y_true=y_test\n",
    "print('Accuracy of RF: '+ str(rf_score))\n",
    "precision,recall,fscore,none= precision_recall_fscore_support(y_true, y_predict, average='weighted') \n",
    "print('Precision of RF: '+(str(precision)))\n",
    "print('Recall of RF: '+(str(recall)))\n",
    "print('F1-score of RF: '+(str(fscore)))\n",
    "print(classification_report(y_true,y_predict))\n",
    "cm=confusion_matrix(y_true,y_predict)\n",
    "f,ax=plt.subplots(figsize=(5,5))\n",
    "sns.heatmap(cm,annot=True,linewidth=0.5,linecolor=\"red\",fmt=\".0f\",ax=ax)\n",
    "plt.xlabel(\"y_pred\")\n",
    "plt.ylabel(\"y_true\")\n",
    "plt.show()"
   ]
  },
  {
   "cell_type": "code",
   "execution_count": 48,
   "metadata": {},
   "outputs": [],
   "source": [
    "rf_train=rf_hpo.predict(X_train)\n",
    "rf_test=rf_hpo.predict(X_test)"
   ]
  },
  {
   "cell_type": "markdown",
   "metadata": {},
   "source": [
    "#### Apply DT"
   ]
  },
  {
   "cell_type": "code",
   "execution_count": 49,
   "metadata": {},
   "outputs": [
    {
     "name": "stdout",
     "output_type": "stream",
     "text": [
      "Accuracy of DT: 0.9922222222222222\n",
      "Precision of DT: 0.992576207023194\n",
      "Recall of DT: 0.9922222222222222\n",
      "F1-score of DT: 0.9922774506652111\n",
      "              precision    recall  f1-score   support\n",
      "\n",
      "         0.0       0.87      0.83      0.85        24\n",
      "         1.0       1.00      0.99      1.00       394\n",
      "         2.0       1.00      1.00      1.00         4\n",
      "         3.0       1.00      1.00      1.00        24\n",
      "         4.0       0.78      1.00      0.88         7\n",
      "         5.0       1.00      1.00      1.00        11\n",
      "         6.0       1.00      1.00      1.00       436\n",
      "\n",
      "    accuracy                           0.99       900\n",
      "   macro avg       0.95      0.98      0.96       900\n",
      "weighted avg       0.99      0.99      0.99       900\n",
      "\n"
     ]
    },
    {
     "data": {
      "image/png": "[encoded data removed]",
      "text/plain": [
       "<Figure size 500x500 with 2 Axes>"
      ]
     },
     "metadata": {},
     "output_type": "display_data"
    }
   ],
   "source": [
    "dt = DecisionTreeClassifier(random_state = 0)\n",
    "dt.fit(X_train,y_train) \n",
    "dt_score=dt.score(X_test,y_test)\n",
    "y_predict=dt.predict(X_test)\n",
    "y_true=y_test\n",
    "print('Accuracy of DT: '+ str(dt_score))\n",
    "precision,recall,fscore,none= precision_recall_fscore_support(y_true, y_predict, average='weighted') \n",
    "print('Precision of DT: '+(str(precision)))\n",
    "print('Recall of DT: '+(str(recall)))\n",
    "print('F1-score of DT: '+(str(fscore)))\n",
    "print(classification_report(y_true,y_predict))\n",
    "cm=confusion_matrix(y_true,y_predict)\n",
    "f,ax=plt.subplots(figsize=(5,5))\n",
    "sns.heatmap(cm,annot=True,linewidth=0.5,linecolor=\"red\",fmt=\".0f\",ax=ax)\n",
    "plt.xlabel(\"y_pred\")\n",
    "plt.ylabel(\"y_true\")\n",
    "plt.show()"
   ]
  },
  {
   "cell_type": "markdown",
   "metadata": {},
   "source": [
    "#### Hyperparameter optimization (HPO) of decision tree using Bayesian optimization with tree-based Parzen estimator (BO-TPE)\n",
    "Based on the GitHub repo for HPO: https://github.com/LiYangHart/Hyperparameter-Optimization-of-Machine-Learning-Algorithms"
   ]
  },
  {
   "cell_type": "code",
   "execution_count": 50,
   "metadata": {},
   "outputs": [
    {
     "name": "stdout",
     "output_type": "stream",
     "text": [
      "100%|███████████████████████████████████████████████| 50/50 [00:00<00:00, 54.16trial/s, best loss: -0.9944444444444445]\n",
      "Decision tree: Hyperopt estimated optimum {'criterion': 0, 'max_depth': 24.0, 'max_features': 4.0, 'min_samples_leaf': 2.0, 'min_samples_split': 9.0}\n"
     ]
    }
   ],
   "source": [
    "# Hyperparameter optimization of decision tree\n",
    "from hyperopt import hp, fmin, tpe, STATUS_OK, Trials\n",
    "from sklearn.model_selection import cross_val_score, StratifiedKFold\n",
    "# Define the objective function\n",
    "def objective(params):\n",
    "    params = {\n",
    "        'max_depth': int(params['max_depth']),\n",
    "        'max_features': int(params['max_features']),\n",
    "        \"min_samples_split\":int(params['min_samples_split']),\n",
    "        \"min_samples_leaf\":int(params['min_samples_leaf']),\n",
    "        \"criterion\":str(params['criterion'])\n",
    "    }\n",
    "    clf = DecisionTreeClassifier( **params)\n",
    "    clf.fit(X_train,y_train)\n",
    "    score=clf.score(X_test,y_test)\n",
    "\n",
    "    return {'loss':-score, 'status': STATUS_OK }\n",
    "# Define the hyperparameter configuration space\n",
    "space = {\n",
    "    'max_depth': hp.quniform('max_depth', 5, 50, 1),\n",
    "    \"max_features\":hp.quniform('max_features', 1, 20, 1),\n",
    "    \"min_samples_split\":hp.quniform('min_samples_split',2,11,1),\n",
    "    \"min_samples_leaf\":hp.quniform('min_samples_leaf',1,11,1),\n",
    "    \"criterion\":hp.choice('criterion',['gini','entropy'])\n",
    "}\n",
    "\n",
    "best = fmin(fn=objective,\n",
    "            space=space,\n",
    "            algo=tpe.suggest,\n",
    "            max_evals=50)\n",
    "print(\"Decision tree: Hyperopt estimated optimum {}\".format(best))"
   ]
  },
  {
   "cell_type": "code",
   "execution_count": 51,
   "metadata": {},
   "outputs": [
    {
     "name": "stdout",
     "output_type": "stream",
     "text": [
      "Accuracy of DT: 0.9911111111111112\n",
      "Precision of DT: 0.991604938271605\n",
      "Recall of DT: 0.9911111111111112\n",
      "F1-score of DT: 0.9912471727452643\n",
      "              precision    recall  f1-score   support\n",
      "\n",
      "         0.0       0.83      0.83      0.83        24\n",
      "         1.0       1.00      0.99      1.00       394\n",
      "         2.0       1.00      1.00      1.00         4\n",
      "         3.0       1.00      1.00      1.00        24\n",
      "         4.0       0.78      1.00      0.88         7\n",
      "         5.0       1.00      1.00      1.00        11\n",
      "         6.0       1.00      1.00      1.00       436\n",
      "\n",
      "    accuracy                           0.99       900\n",
      "   macro avg       0.94      0.97      0.96       900\n",
      "weighted avg       0.99      0.99      0.99       900\n",
      "\n"
     ]
    },
    {
     "data": {
      "image/png": "[encoded data removed]",
      "text/plain": [
       "<Figure size 500x500 with 2 Axes>"
      ]
     },
     "metadata": {},
     "output_type": "display_data"
    }
   ],
   "source": [
    "dt_hpo = DecisionTreeClassifier(min_samples_leaf = 2, max_depth = 47, min_samples_split = 3, max_features = 19, criterion = 'gini')\n",
    "dt_hpo.fit(X_train,y_train)\n",
    "dt_score=dt_hpo.score(X_test,y_test)\n",
    "y_predict=dt_hpo.predict(X_test)\n",
    "y_true=y_test\n",
    "print('Accuracy of DT: '+ str(dt_score))\n",
    "precision,recall,fscore,none= precision_recall_fscore_support(y_true, y_predict, average='weighted') \n",
    "print('Precision of DT: '+(str(precision)))\n",
    "print('Recall of DT: '+(str(recall)))\n",
    "print('F1-score of DT: '+(str(fscore)))\n",
    "print(classification_report(y_true,y_predict))\n",
    "cm=confusion_matrix(y_true,y_predict)\n",
    "f,ax=plt.subplots(figsize=(5,5))\n",
    "sns.heatmap(cm,annot=True,linewidth=0.5,linecolor=\"red\",fmt=\".0f\",ax=ax)\n",
    "plt.xlabel(\"y_pred\")\n",
    "plt.ylabel(\"y_true\")\n",
    "plt.show()"
   ]
  },
  {
   "cell_type": "code",
   "execution_count": 52,
   "metadata": {},
   "outputs": [],
   "source": [
    "dt_train=dt_hpo.predict(X_train)\n",
    "dt_test=dt_hpo.predict(X_test)"
   ]
  },
  {
   "cell_type": "markdown",
   "metadata": {},
   "source": [
    "#### Apply ET"
   ]
  },
  {
   "cell_type": "code",
   "execution_count": 53,
   "metadata": {},
   "outputs": [
    {
     "name": "stdout",
     "output_type": "stream",
     "text": [
      "Accuracy of ET: 0.9944444444444445\n",
      "Precision of ET: 0.9947896885796429\n",
      "Recall of ET: 0.9944444444444445\n",
      "F1-score of ET: 0.9943999848209306\n",
      "              precision    recall  f1-score   support\n",
      "\n",
      "         0.0       0.95      0.83      0.89        24\n",
      "         1.0       1.00      1.00      1.00       394\n",
      "         2.0       1.00      1.00      1.00         4\n",
      "         3.0       1.00      1.00      1.00        24\n",
      "         4.0       0.78      1.00      0.88         7\n",
      "         5.0       1.00      1.00      1.00        11\n",
      "         6.0       1.00      1.00      1.00       436\n",
      "\n",
      "    accuracy                           0.99       900\n",
      "   macro avg       0.96      0.98      0.97       900\n",
      "weighted avg       0.99      0.99      0.99       900\n",
      "\n"
     ]
    },
    {
     "data": {
      "image/png": "[encoded data removed]",
      "text/plain": [
       "<Figure size 500x500 with 2 Axes>"
      ]
     },
     "metadata": {},
     "output_type": "display_data"
    }
   ],
   "source": [
    "et = ExtraTreesClassifier(random_state = 0)\n",
    "et.fit(X_train,y_train) \n",
    "et_score=et.score(X_test,y_test)\n",
    "y_predict=et.predict(X_test)\n",
    "y_true=y_test\n",
    "print('Accuracy of ET: '+ str(et_score))\n",
    "precision,recall,fscore,none= precision_recall_fscore_support(y_true, y_predict, average='weighted') \n",
    "print('Precision of ET: '+(str(precision)))\n",
    "print('Recall of ET: '+(str(recall)))\n",
    "print('F1-score of ET: '+(str(fscore)))\n",
    "print(classification_report(y_true,y_predict))\n",
    "cm=confusion_matrix(y_true,y_predict)\n",
    "f,ax=plt.subplots(figsize=(5,5))\n",
    "sns.heatmap(cm,annot=True,linewidth=0.5,linecolor=\"red\",fmt=\".0f\",ax=ax)\n",
    "plt.xlabel(\"y_pred\")\n",
    "plt.ylabel(\"y_true\")\n",
    "plt.show()"
   ]
  },
  {
   "cell_type": "markdown",
   "metadata": {},
   "source": [
    "#### Hyperparameter optimization (HPO) of extra trees using Bayesian optimization with tree-based Parzen estimator (BO-TPE)\n",
    "Based on the GitHub repo for HPO: https://github.com/LiYangHart/Hyperparameter-Optimization-of-Machine-Learning-Algorithms"
   ]
  },
  {
   "cell_type": "code",
   "execution_count": 54,
   "metadata": {},
   "outputs": [
    {
     "name": "stdout",
     "output_type": "stream",
     "text": [
      "100%|███████████████████████████████████████████████| 20/20 [00:04<00:00,  4.19trial/s, best loss: -0.9911111111111112]\n",
      "Random Forest: Hyperopt estimated optimum {'criterion': 1, 'max_depth': 19.0, 'max_features': 17.0, 'min_samples_leaf': 2.0, 'min_samples_split': 7.0, 'n_estimators': 153.0}\n"
     ]
    }
   ],
   "source": [
    "# Hyperparameter optimization of extra trees\n",
    "from hyperopt import hp, fmin, tpe, STATUS_OK, Trials\n",
    "from sklearn.model_selection import cross_val_score, StratifiedKFold\n",
    "# Define the objective function\n",
    "def objective(params):\n",
    "    params = {\n",
    "        'n_estimators': int(params['n_estimators']), \n",
    "        'max_depth': int(params['max_depth']),\n",
    "        'max_features': int(params['max_features']),\n",
    "        \"min_samples_split\":int(params['min_samples_split']),\n",
    "        \"min_samples_leaf\":int(params['min_samples_leaf']),\n",
    "        \"criterion\":str(params['criterion'])\n",
    "    }\n",
    "    clf = ExtraTreesClassifier( **params)\n",
    "    clf.fit(X_train,y_train)\n",
    "    score=clf.score(X_test,y_test)\n",
    "\n",
    "    return {'loss':-score, 'status': STATUS_OK }\n",
    "# Define the hyperparameter configuration space\n",
    "space = {\n",
    "    'n_estimators': hp.quniform('n_estimators', 10, 200, 1),\n",
    "    'max_depth': hp.quniform('max_depth', 5, 50, 1),\n",
    "    \"max_features\":hp.quniform('max_features', 1, 20, 1),\n",
    "    \"min_samples_split\":hp.quniform('min_samples_split',2,11,1),\n",
    "    \"min_samples_leaf\":hp.quniform('min_samples_leaf',1,11,1),\n",
    "    \"criterion\":hp.choice('criterion',['gini','entropy'])\n",
    "}\n",
    "\n",
    "best = fmin(fn=objective,\n",
    "            space=space,\n",
    "            algo=tpe.suggest,\n",
    "            max_evals=20)\n",
    "print(\"Random Forest: Hyperopt estimated optimum {}\".format(best))"
   ]
  },
  {
   "cell_type": "code",
   "execution_count": 55,
   "metadata": {},
   "outputs": [
    {
     "name": "stdout",
     "output_type": "stream",
     "text": [
      "Accuracy of ET: 0.9933333333333333\n",
      "Precision of ET: 0.9936150854050397\n",
      "Recall of ET: 0.9933333333333333\n",
      "F1-score of ET: 0.9931717345075468\n",
      "              precision    recall  f1-score   support\n",
      "\n",
      "         0.0       0.95      0.79      0.86        24\n",
      "         1.0       1.00      1.00      1.00       394\n",
      "         2.0       1.00      1.00      1.00         4\n",
      "         3.0       1.00      1.00      1.00        24\n",
      "         4.0       0.78      1.00      0.88         7\n",
      "         5.0       1.00      1.00      1.00        11\n",
      "         6.0       1.00      1.00      1.00       436\n",
      "\n",
      "    accuracy                           0.99       900\n",
      "   macro avg       0.96      0.97      0.96       900\n",
      "weighted avg       0.99      0.99      0.99       900\n",
      "\n"
     ]
    },
    {
     "data": {
      "image/png": "[encoded data removed]",
      "text/plain": [
       "<Figure size 500x500 with 2 Axes>"
      ]
     },
     "metadata": {},
     "output_type": "display_data"
    }
   ],
   "source": [
    "et_hpo = ExtraTreesClassifier(n_estimators = 53, min_samples_leaf = 1, max_depth = 31, min_samples_split = 5, max_features = 20, criterion = 'entropy')\n",
    "et_hpo.fit(X_train,y_train) \n",
    "et_score=et_hpo.score(X_test,y_test)\n",
    "y_predict=et_hpo.predict(X_test)\n",
    "y_true=y_test\n",
    "print('Accuracy of ET: '+ str(et_score))\n",
    "precision,recall,fscore,none= precision_recall_fscore_support(y_true, y_predict, average='weighted') \n",
    "print('Precision of ET: '+(str(precision)))\n",
    "print('Recall of ET: '+(str(recall)))\n",
    "print('F1-score of ET: '+(str(fscore)))\n",
    "print(classification_report(y_true,y_predict))\n",
    "cm=confusion_matrix(y_true,y_predict)\n",
    "f,ax=plt.subplots(figsize=(5,5))\n",
    "sns.heatmap(cm,annot=True,linewidth=0.5,linecolor=\"red\",fmt=\".0f\",ax=ax)\n",
    "plt.xlabel(\"y_pred\")\n",
    "plt.ylabel(\"y_true\")\n",
    "plt.show()"
   ]
  },
  {
   "cell_type": "code",
   "execution_count": 56,
   "metadata": {},
   "outputs": [],
   "source": [
    "et_train=et_hpo.predict(X_train)\n",
    "et_test=et_hpo.predict(X_test)"
   ]
  },
  {
   "cell_type": "markdown",
   "metadata": {},
   "source": [
    "### Apply Stacking\n",
    "The ensemble model that combines the four ML models (DT, RF, ET, XGBoost)"
   ]
  },
  {
   "cell_type": "code",
   "execution_count": 57,
   "metadata": {},
   "outputs": [
    {
     "data": {
      "text/html": [
       "<div>\n",
       "<style scoped>\n",
       "    .dataframe tbody tr th:only-of-type {\n",
       "        vertical-align: middle;\n",
       "    }\n",
       "\n",
       "    .dataframe tbody tr th {\n",
       "        vertical-align: top;\n",
       "    }\n",
       "\n",
       "    .dataframe thead th {\n",
       "        text-align: right;\n",
       "    }\n",
       "</style>\n",
       "<table border=\"1\" class=\"dataframe\">\n",
       "  <thead>\n",
       "    <tr style=\"text-align: right;\">\n",
       "      <th></th>\n",
       "      <th>DecisionTree</th>\n",
       "      <th>RandomForest</th>\n",
       "      <th>ExtraTrees</th>\n",
       "      <th>XgBoost</th>\n",
       "    </tr>\n",
       "  </thead>\n",
       "  <tbody>\n",
       "    <tr>\n",
       "      <th>0</th>\n",
       "      <td>6.0</td>\n",
       "      <td>6.0</td>\n",
       "      <td>6.0</td>\n",
       "      <td>6</td>\n",
       "    </tr>\n",
       "    <tr>\n",
       "      <th>1</th>\n",
       "      <td>6.0</td>\n",
       "      <td>6.0</td>\n",
       "      <td>6.0</td>\n",
       "      <td>6</td>\n",
       "    </tr>\n",
       "    <tr>\n",
       "      <th>2</th>\n",
       "      <td>1.0</td>\n",
       "      <td>1.0</td>\n",
       "      <td>1.0</td>\n",
       "      <td>1</td>\n",
       "    </tr>\n",
       "    <tr>\n",
       "      <th>3</th>\n",
       "      <td>6.0</td>\n",
       "      <td>6.0</td>\n",
       "      <td>6.0</td>\n",
       "      <td>6</td>\n",
       "    </tr>\n",
       "    <tr>\n",
       "      <th>4</th>\n",
       "      <td>1.0</td>\n",
       "      <td>1.0</td>\n",
       "      <td>1.0</td>\n",
       "      <td>1</td>\n",
       "    </tr>\n",
       "  </tbody>\n",
       "</table>\n",
       "</div>"
      ],
      "text/plain": [
       "   DecisionTree  RandomForest  ExtraTrees  XgBoost\n",
       "0           6.0           6.0         6.0        6\n",
       "1           6.0           6.0         6.0        6\n",
       "2           1.0           1.0         1.0        1\n",
       "3           6.0           6.0         6.0        6\n",
       "4           1.0           1.0         1.0        1"
      ]
     },
     "execution_count": 57,
     "metadata": {},
     "output_type": "execute_result"
    }
   ],
   "source": [
    "base_predictions_train = pd.DataFrame( {\n",
    "    'DecisionTree': dt_train.ravel(),\n",
    "        'RandomForest': rf_train.ravel(),\n",
    "     'ExtraTrees': et_train.ravel(),\n",
    "     'XgBoost': xg_train.ravel(),\n",
    "    })\n",
    "base_predictions_train.head(5)"
   ]
  },
  {
   "cell_type": "code",
   "execution_count": 58,
   "metadata": {},
   "outputs": [],
   "source": [
    "dt_train=dt_train.reshape(-1, 1)\n",
    "et_train=et_train.reshape(-1, 1)\n",
    "rf_train=rf_train.reshape(-1, 1)\n",
    "xg_train=xg_train.reshape(-1, 1)\n",
    "dt_test=dt_test.reshape(-1, 1)\n",
    "et_test=et_test.reshape(-1, 1)\n",
    "rf_test=rf_test.reshape(-1, 1)\n",
    "xg_test=xg_test.reshape(-1, 1)"
   ]
  },
  {
   "cell_type": "code",
   "execution_count": 59,
   "metadata": {},
   "outputs": [
    {
     "data": {
      "text/plain": [
       "(5554, 1)"
      ]
     },
     "execution_count": 59,
     "metadata": {},
     "output_type": "execute_result"
    }
   ],
   "source": [
    "dt_train.shape"
   ]
  },
  {
   "cell_type": "code",
   "execution_count": 60,
   "metadata": {},
   "outputs": [],
   "source": [
    "x_train = np.concatenate(( dt_train, et_train, rf_train, xg_train), axis=1)\n",
    "x_test = np.concatenate(( dt_test, et_test, rf_test, xg_test), axis=1)"
   ]
  },
  {
   "cell_type": "code",
   "execution_count": 61,
   "metadata": {},
   "outputs": [
    {
     "name": "stdout",
     "output_type": "stream",
     "text": [
      "Accuracy of Stacking: 0.9933333333333333\n",
      "Precision of Stacking: 0.993482369355657\n",
      "Recall of Stacking: 0.9933333333333333\n",
      "F1-score of Stacking: 0.9931316110507568\n",
      "              precision    recall  f1-score   support\n",
      "\n",
      "         0.0       0.95      0.79      0.86        24\n",
      "         1.0       1.00      1.00      1.00       394\n",
      "         2.0       0.80      1.00      0.89         4\n",
      "         3.0       1.00      1.00      1.00        24\n",
      "         4.0       0.88      1.00      0.93         7\n",
      "         5.0       1.00      1.00      1.00        11\n",
      "         6.0       1.00      1.00      1.00       436\n",
      "\n",
      "    accuracy                           0.99       900\n",
      "   macro avg       0.95      0.97      0.95       900\n",
      "weighted avg       0.99      0.99      0.99       900\n",
      "\n"
     ]
    },
    {
     "data": {
      "image/png": "[encoded data removed]",
      "text/plain": [
       "<Figure size 500x500 with 2 Axes>"
      ]
     },
     "metadata": {},
     "output_type": "display_data"
    }
   ],
   "source": [
    "stk = xgb.XGBClassifier().fit(x_train, y_train)\n",
    "y_predict=stk.predict(x_test)\n",
    "y_true=y_test\n",
    "stk_score=accuracy_score(y_true,y_predict)\n",
    "print('Accuracy of Stacking: '+ str(stk_score))\n",
    "precision,recall,fscore,none= precision_recall_fscore_support(y_true, y_predict, average='weighted') \n",
    "print('Precision of Stacking: '+(str(precision)))\n",
    "print('Recall of Stacking: '+(str(recall)))\n",
    "print('F1-score of Stacking: '+(str(fscore)))\n",
    "print(classification_report(y_true,y_predict))\n",
    "cm=confusion_matrix(y_true,y_predict)\n",
    "f,ax=plt.subplots(figsize=(5,5))\n",
    "sns.heatmap(cm,annot=True,linewidth=0.5,linecolor=\"red\",fmt=\".0f\",ax=ax)\n",
    "plt.xlabel(\"y_pred\")\n",
    "plt.ylabel(\"y_true\")\n",
    "plt.show()"
   ]
  },
  {
   "cell_type": "markdown",
   "metadata": {},
   "source": [
    "#### Hyperparameter optimization (HPO) of the stacking ensemble model (XGBoost) using Bayesian optimization with tree-based Parzen estimator (BO-TPE)\n",
    "Based on the GitHub repo for HPO: https://github.com/LiYangHart/Hyperparameter-Optimization-of-Machine-Learning-Algorithms"
   ]
  },
  {
   "cell_type": "code",
   "execution_count": 62,
   "metadata": {},
   "outputs": [
    {
     "name": "stdout",
     "output_type": "stream",
     "text": [
      "100%|███████████████████████████████████████████████| 20/20 [00:01<00:00, 18.08trial/s, best loss: -0.9933333333333333]\n",
      "XGBoost: Hyperopt estimated optimum {'learning_rate': -1.224054064911136, 'max_depth': 69.0, 'n_estimators': 50.0}\n"
     ]
    }
   ],
   "source": [
    "from hyperopt import hp, fmin, tpe, STATUS_OK, Trials\n",
    "from sklearn.model_selection import cross_val_score, StratifiedKFold\n",
    "def objective(params):\n",
    "    params = {\n",
    "        'n_estimators': int(params['n_estimators']), \n",
    "        'max_depth': int(params['max_depth']),\n",
    "        'learning_rate':  abs(float(params['learning_rate'])),\n",
    "\n",
    "    }\n",
    "    clf = xgb.XGBClassifier( **params)\n",
    "    clf.fit(x_train, y_train)\n",
    "    y_pred = clf.predict(x_test)\n",
    "    score = accuracy_score(y_test, y_pred)\n",
    "\n",
    "    return {'loss':-score, 'status': STATUS_OK }\n",
    "\n",
    "space = {\n",
    "    'n_estimators': hp.quniform('n_estimators', 10, 100, 5),\n",
    "    'max_depth': hp.quniform('max_depth', 4, 100, 1),\n",
    "    'learning_rate': hp.normal('learning_rate', 0.01, 0.9),\n",
    "}\n",
    "\n",
    "best = fmin(fn=objective,\n",
    "            space=space,\n",
    "            algo=tpe.suggest,\n",
    "            max_evals=20)\n",
    "print(\"XGBoost: Hyperopt estimated optimum {}\".format(best))"
   ]
  },
  {
   "cell_type": "code",
   "execution_count": 63,
   "metadata": {},
   "outputs": [
    {
     "name": "stdout",
     "output_type": "stream",
     "text": [
      "Accuracy of XGBoost: 0.9944444444444445\n",
      "Precision of XGBoost: 0.9944347503080379\n",
      "Recall of XGBoost: 0.9944444444444445\n",
      "F1-score of XGBoost: 0.9942988388846513\n",
      "              precision    recall  f1-score   support\n",
      "\n",
      "         0.0       0.95      0.83      0.89        24\n",
      "         1.0       1.00      1.00      1.00       394\n",
      "         2.0       1.00      1.00      1.00         4\n",
      "         3.0       1.00      1.00      1.00        24\n",
      "         4.0       0.88      1.00      0.93         7\n",
      "         5.0       1.00      1.00      1.00        11\n",
      "         6.0       1.00      1.00      1.00       436\n",
      "\n",
      "    accuracy                           0.99       900\n",
      "   macro avg       0.97      0.98      0.97       900\n",
      "weighted avg       0.99      0.99      0.99       900\n",
      "\n"
     ]
    },
    {
     "data": {
      "image/png": "[encoded data removed]",
      "text/plain": [
       "<Figure size 500x500 with 2 Axes>"
      ]
     },
     "metadata": {},
     "output_type": "display_data"
    }
   ],
   "source": [
    "xg = xgb.XGBClassifier(learning_rate= 0.19229249758051492, n_estimators = 30, max_depth = 36)\n",
    "xg.fit(x_train,y_train)\n",
    "xg_score=xg.score(x_test,y_test)\n",
    "y_predict=xg.predict(x_test)\n",
    "y_true=y_test\n",
    "print('Accuracy of XGBoost: '+ str(xg_score))\n",
    "precision,recall,fscore,none= precision_recall_fscore_support(y_true, y_predict, average='weighted') \n",
    "print('Precision of XGBoost: '+(str(precision)))\n",
    "print('Recall of XGBoost: '+(str(recall)))\n",
    "print('F1-score of XGBoost: '+(str(fscore)))\n",
    "print(classification_report(y_true,y_predict))\n",
    "cm=confusion_matrix(y_true,y_predict)\n",
    "f,ax=plt.subplots(figsize=(5,5))\n",
    "sns.heatmap(cm,annot=True,linewidth=0.5,linecolor=\"red\",fmt=\".0f\",ax=ax)\n",
    "plt.xlabel(\"y_pred\")\n",
    "plt.ylabel(\"y_true\")\n",
    "plt.show()"
   ]
  },
  {
   "cell_type": "markdown",
   "metadata": {
    "collapsed": true,
    "jupyter": {
     "outputs_hidden": true
    }
   },
   "source": [
    "## Anomaly-based IDS"
   ]
  },
  {
   "cell_type": "markdown",
   "metadata": {},
   "source": [
    "### Generate the port-scan datasets for unknown attack detection"
   ]
  },
  {
   "cell_type": "code",
   "execution_count": 64,
   "metadata": {},
   "outputs": [],
   "source": [
    "df=pd.read_csv('./data/CICIDS2017_sample_km.csv')"
   ]
  },
  {
   "cell_type": "code",
   "execution_count": 65,
   "metadata": {},
   "outputs": [
    {
     "data": {
      "text/plain": [
       "Label\n",
       "6    2180\n",
       "1    1966\n",
       "3     122\n",
       "0     119\n",
       "5      56\n",
       "4      36\n",
       "2      18\n",
       "Name: count, dtype: int64"
      ]
     },
     "execution_count": 65,
     "metadata": {},
     "output_type": "execute_result"
    }
   ],
   "source": [
    "df.Label.value_counts()"
   ]
  },
  {
   "cell_type": "code",
   "execution_count": 66,
   "metadata": {},
   "outputs": [],
   "source": [
    "df1 = df[df['Label'] != 5]\n",
    "df1['Label'][df1['Label'] > 0] = 1\n",
    "df1.to_csv('./data/CICIDS2017_sample_km_without_portscan.csv',index=0)"
   ]
  },
  {
   "cell_type": "code",
   "execution_count": 67,
   "metadata": {},
   "outputs": [],
   "source": [
    "df2 = df[df['Label'] == 5]\n",
    "df2['Label'][df2['Label'] == 5] = 1\n",
    "df2.to_csv('./data/CICIDS2017_sample_km_portscan.csv',index=0)"
   ]
  },
  {
   "cell_type": "markdown",
   "metadata": {},
   "source": [
    "### Read the generated datasets for unknown attack detection"
   ]
  },
  {
   "cell_type": "code",
   "execution_count": 68,
   "metadata": {},
   "outputs": [],
   "source": [
    "df1 = pd.read_csv('./data/CICIDS2017_sample_km_without_portscan.csv')\n",
    "df2 = pd.read_csv('./data/CICIDS2017_sample_km_portscan.csv')"
   ]
  },
  {
   "cell_type": "code",
   "execution_count": 69,
   "metadata": {},
   "outputs": [],
   "source": [
    "features = df1.drop(['Label'],axis=1).dtypes[df1.dtypes != 'object'].index\n",
    "df1[features] = df1[features].apply(\n",
    "    lambda x: (x - x.mean()) / (x.std()))\n",
    "df2[features] = df2[features].apply(\n",
    "    lambda x: (x - x.mean()) / (x.std()))\n",
    "df1 = df1.fillna(0)\n",
    "df2 = df2.fillna(0)"
   ]
  },
  {
   "cell_type": "code",
   "execution_count": 70,
   "metadata": {},
   "outputs": [
    {
     "data": {
      "text/plain": [
       "Label\n",
       "1    4322\n",
       "0     119\n",
       "Name: count, dtype: int64"
      ]
     },
     "execution_count": 70,
     "metadata": {},
     "output_type": "execute_result"
    }
   ],
   "source": [
    "df1.Label.value_counts()"
   ]
  },
  {
   "cell_type": "code",
   "execution_count": 71,
   "metadata": {
    "scrolled": true
   },
   "outputs": [
    {
     "data": {
      "text/plain": [
       "Label\n",
       "1    56\n",
       "Name: count, dtype: int64"
      ]
     },
     "execution_count": 71,
     "metadata": {},
     "output_type": "execute_result"
    }
   ],
   "source": [
    "df2.Label.value_counts()"
   ]
  },
  {
   "cell_type": "code",
   "execution_count": 72,
   "metadata": {},
   "outputs": [],
   "source": [
    "df2p=df1[df1['Label']==0]\n",
    "df2pp=df2p.sample(n=None, frac=1255/18225, replace=False, weights=None, random_state=None, axis=0)\n",
    "df2=pd.concat([df2, df2pp])"
   ]
  },
  {
   "cell_type": "code",
   "execution_count": 73,
   "metadata": {},
   "outputs": [
    {
     "data": {
      "text/plain": [
       "Label\n",
       "1    56\n",
       "0     8\n",
       "Name: count, dtype: int64"
      ]
     },
     "execution_count": 73,
     "metadata": {},
     "output_type": "execute_result"
    }
   ],
   "source": [
    "df2.Label.value_counts()"
   ]
  },
  {
   "cell_type": "markdown",
   "metadata": {},
   "source": [
    "## ------ FIXED CODE BELOW 4371, This error occurs because the append method has been removed from pandas starting with version 2.0.0. The recommended approach is to use pandas.concat() instead.------"
   ]
  },
  {
   "cell_type": "code",
   "execution_count": 74,
   "metadata": {},
   "outputs": [],
   "source": [
    "df = pd.concat([df1, df2], ignore_index=True)"
   ]
  },
  {
   "cell_type": "code",
   "execution_count": 75,
   "metadata": {},
   "outputs": [
    {
     "data": {
      "text/plain": [
       "1    4378\n",
       "0     127\n",
       "Name: count, dtype: int64"
      ]
     },
     "execution_count": 75,
     "metadata": {},
     "output_type": "execute_result"
    }
   ],
   "source": [
    "X = df.drop(['Label'],axis=1) .values\n",
    "y = df.iloc[:, -1].values.reshape(-1,1)\n",
    "y=np.ravel(y)\n",
    "pd.Series(y).value_counts()"
   ]
  },
  {
   "cell_type": "markdown",
   "metadata": {},
   "source": [
    "### Feature engineering (IG, FCBF, and KPCA)"
   ]
  },
  {
   "cell_type": "markdown",
   "metadata": {},
   "source": [
    "#### Feature selection by information gain (IG)"
   ]
  },
  {
   "cell_type": "code",
   "execution_count": 76,
   "metadata": {},
   "outputs": [],
   "source": [
    "from sklearn.feature_selection import mutual_info_classif\n",
    "importances = mutual_info_classif(X, y)"
   ]
  },
  {
   "cell_type": "code",
   "execution_count": 77,
   "metadata": {},
   "outputs": [],
   "source": [
    "# calculate the sum of importance scores\n",
    "f_list = sorted(zip(map(lambda x: round(x, 4), importances), features), reverse=True)\n",
    "Sum = 0\n",
    "fs = []\n",
    "for i in range(0, len(f_list)):\n",
    "    Sum = Sum + f_list[i][0]\n",
    "    fs.append(f_list[i][1])"
   ]
  },
  {
   "cell_type": "code",
   "execution_count": 78,
   "metadata": {},
   "outputs": [],
   "source": [
    "# select the important features from top to bottom until the accumulated importance reaches 90%\n",
    "f_list2 = sorted(zip(map(lambda x: round(x, 4), importances/Sum), features), reverse=True)\n",
    "Sum2 = 0\n",
    "fs = []\n",
    "for i in range(0, len(f_list2)):\n",
    "    Sum2 = Sum2 + f_list2[i][0]\n",
    "    fs.append(f_list2[i][1])\n",
    "    if Sum2>=0.9:\n",
    "        break        "
   ]
  },
  {
   "cell_type": "code",
   "execution_count": 79,
   "metadata": {},
   "outputs": [],
   "source": [
    "X_fs = df[fs].values"
   ]
  },
  {
   "cell_type": "code",
   "execution_count": 80,
   "metadata": {},
   "outputs": [
    {
     "data": {
      "text/plain": [
       "(4505, 42)"
      ]
     },
     "execution_count": 80,
     "metadata": {},
     "output_type": "execute_result"
    }
   ],
   "source": [
    "X_fs.shape"
   ]
  },
  {
   "cell_type": "code",
   "execution_count": 81,
   "metadata": {},
   "outputs": [
    {
     "data": {
      "text/plain": [
       "array([[-0.06312995, -0.06312995, -1.62619831, ...,  6.98359728,\n",
       "        -0.14506303,  4.34102152],\n",
       "       [-0.06684461, -0.06684461, -1.60630825, ..., -0.56587594,\n",
       "        -0.16753404, -0.7500389 ],\n",
       "       [-0.06747914, -0.06747914, -1.59967823, ..., -0.32682362,\n",
       "         0.30243864, -0.50771791],\n",
       "       ...,\n",
       "       [-0.05685072, -0.05685072,  0.78049942, ...,  0.81186321,\n",
       "         2.95817026,  1.10155541],\n",
       "       [-0.06782285, -0.06782285, -0.55213486, ..., -0.57498246,\n",
       "        -0.16753636, -0.76082172],\n",
       "       [-0.06733373, -0.06733373, -1.14552177, ..., -0.57498246,\n",
       "        -0.16753636, -0.76329386]])"
      ]
     },
     "execution_count": 81,
     "metadata": {},
     "output_type": "execute_result"
    }
   ],
   "source": [
    "X_fs"
   ]
  },
  {
   "cell_type": "markdown",
   "metadata": {},
   "source": [
    "#### Feature selection by Fast Correlation Based Filter (FCBF)\n",
    "\n",
    "The module is imported from the GitHub repo: https://github.com/SantiagoEG/FCBF_module"
   ]
  },
  {
   "cell_type": "code",
   "execution_count": 82,
   "metadata": {},
   "outputs": [],
   "source": [
    "from FCBF_module import FCBF, FCBFK, FCBFiP, get_i\n",
    "fcbf = FCBFK(k = 20)\n",
    "#fcbf.fit(X_fs, y)"
   ]
  },
  {
   "cell_type": "code",
   "execution_count": 83,
   "metadata": {},
   "outputs": [],
   "source": [
    "X_fss = fcbf.fit_transform(X_fs,y)"
   ]
  },
  {
   "cell_type": "code",
   "execution_count": 84,
   "metadata": {},
   "outputs": [
    {
     "data": {
      "text/plain": [
       "(4505, 20)"
      ]
     },
     "execution_count": 84,
     "metadata": {},
     "output_type": "execute_result"
    }
   ],
   "source": [
    "X_fss.shape"
   ]
  },
  {
   "cell_type": "code",
   "execution_count": 85,
   "metadata": {
    "scrolled": true
   },
   "outputs": [
    {
     "data": {
      "text/plain": [
       "array([[-1.62619831, -0.31162384, -0.31090012, ...,  6.15551547,\n",
       "        -0.87051754,  3.40618114],\n",
       "       [-1.60630825,  6.91155221,  6.9138453 , ...,  0.105756  ,\n",
       "        -0.88733319,  0.03759315],\n",
       "       [-1.59967823, -0.31162384, -0.31090012, ...,  9.35711491,\n",
       "        -0.87094506,  6.88787178],\n",
       "       ...,\n",
       "       [ 0.78049942, -0.31162384, -0.31090012, ...,  1.10606658,\n",
       "        -0.88726193,  0.93761076],\n",
       "       [-0.55213486, -0.31162384, -0.31090012, ..., -0.22786437,\n",
       "        -0.88733319, -0.2705777 ],\n",
       "       [-1.14552177, -0.31162384, -0.31090012, ..., -0.22786437,\n",
       "        -0.88733319, -0.14914723]])"
      ]
     },
     "execution_count": 85,
     "metadata": {},
     "output_type": "execute_result"
    }
   ],
   "source": [
    "X_fss"
   ]
  },
  {
   "cell_type": "markdown",
   "metadata": {},
   "source": [
    "####  kernel principal component analysis (KPCA)"
   ]
  },
  {
   "cell_type": "code",
   "execution_count": 86,
   "metadata": {},
   "outputs": [],
   "source": [
    "from sklearn.decomposition import KernelPCA\n",
    "kpca = KernelPCA(n_components = 10, kernel = 'rbf')\n",
    "kpca.fit(X_fss, y)\n",
    "X_kpca = kpca.transform(X_fss)\n",
    "\n",
    "# from sklearn.decomposition import PCA\n",
    "# kpca = PCA(n_components = 10)\n",
    "# kpca.fit(X_fss, y)\n",
    "# X_kpca = kpca.transform(X_fss)"
   ]
  },
  {
   "cell_type": "markdown",
   "metadata": {},
   "source": [
    "### Train-test split after feature selection"
   ]
  },
  {
   "cell_type": "code",
   "execution_count": 87,
   "metadata": {},
   "outputs": [],
   "source": [
    "X_train = X_kpca[:len(df1)]\n",
    "y_train = y[:len(df1)]\n",
    "X_test = X_kpca[len(df1):]\n",
    "y_test = y[len(df1):]"
   ]
  },
  {
   "cell_type": "markdown",
   "metadata": {},
   "source": [
    "### Solve class-imbalance by SMOTE"
   ]
  },
  {
   "cell_type": "code",
   "execution_count": 88,
   "metadata": {},
   "outputs": [
    {
     "data": {
      "text/plain": [
       "1    4322\n",
       "0     119\n",
       "Name: count, dtype: int64"
      ]
     },
     "execution_count": 88,
     "metadata": {},
     "output_type": "execute_result"
    }
   ],
   "source": [
    "pd.Series(y_train).value_counts()"
   ]
  },
  {
   "cell_type": "code",
   "execution_count": null,
   "metadata": {},
   "outputs": [],
   "source": []
  },
  {
   "cell_type": "code",
   "execution_count": 89,
   "metadata": {},
   "outputs": [],
   "source": [
    "from imblearn.over_sampling import SMOTE\n",
    "smote=SMOTE(n_jobs=-1,sampling_strategy={1:18225})\n",
    "X_train, y_train = smote.fit_resample(X_train, y_train)"
   ]
  },
  {
   "cell_type": "code",
   "execution_count": 90,
   "metadata": {},
   "outputs": [
    {
     "data": {
      "text/plain": [
       "1    18225\n",
       "0      119\n",
       "Name: count, dtype: int64"
      ]
     },
     "execution_count": 90,
     "metadata": {},
     "output_type": "execute_result"
    }
   ],
   "source": [
    "pd.Series(y_train).value_counts()"
   ]
  },
  {
   "cell_type": "code",
   "execution_count": 91,
   "metadata": {},
   "outputs": [
    {
     "data": {
      "text/plain": [
       "1    56\n",
       "0     8\n",
       "Name: count, dtype: int64"
      ]
     },
     "execution_count": 91,
     "metadata": {},
     "output_type": "execute_result"
    }
   ],
   "source": [
    "pd.Series(y_test).value_counts()"
   ]
  },
  {
   "cell_type": "markdown",
   "metadata": {},
   "source": [
    "### Apply the cluster labeling (CL) k-means method"
   ]
  },
  {
   "cell_type": "code",
   "execution_count": 92,
   "metadata": {},
   "outputs": [],
   "source": [
    "from sklearn.cluster import KMeans\n",
    "from sklearn.cluster import DBSCAN,MeanShift\n",
    "from sklearn.cluster import SpectralClustering,AgglomerativeClustering,AffinityPropagation,Birch,MiniBatchKMeans,MeanShift \n",
    "from sklearn.mixture import GaussianMixture, BayesianGaussianMixture\n",
    "from sklearn.metrics import classification_report\n",
    "from sklearn import metrics"
   ]
  },
  {
   "cell_type": "code",
   "execution_count": 93,
   "metadata": {},
   "outputs": [],
   "source": [
    "def CL_kmeans(X_train, X_test, y_train, y_test,n,b=100):\n",
    "    km_cluster = MiniBatchKMeans(n_clusters=n,batch_size=b)\n",
    "    result = km_cluster.fit_predict(X_train)\n",
    "    result2 = km_cluster.predict(X_test)\n",
    "\n",
    "    count=0\n",
    "    a=np.zeros(n)\n",
    "    b=np.zeros(n)\n",
    "    for v in range(0,n):\n",
    "        for i in range(0,len(y_train)):\n",
    "            if result[i]==v:\n",
    "                if y_train[i]==1:\n",
    "                    a[v]=a[v]+1\n",
    "                else:\n",
    "                    b[v]=b[v]+1\n",
    "    list1=[]\n",
    "    list2=[]\n",
    "    for v in range(0,n):\n",
    "        if a[v]<=b[v]:\n",
    "            list1.append(v)\n",
    "        else: \n",
    "            list2.append(v)\n",
    "    for v in range(0,len(y_test)):\n",
    "        if result2[v] in list1:\n",
    "            result2[v]=0\n",
    "        elif result2[v] in list2:\n",
    "            result2[v]=1\n",
    "        else:\n",
    "            print(\"-1\")\n",
    "    print(classification_report(y_test, result2))\n",
    "    cm=confusion_matrix(y_test,result2)\n",
    "    acc=metrics.accuracy_score(y_test,result2)\n",
    "    print(str(acc))\n",
    "    print(cm)"
   ]
  },
  {
   "cell_type": "code",
   "execution_count": 94,
   "metadata": {},
   "outputs": [
    {
     "name": "stdout",
     "output_type": "stream",
     "text": [
      "              precision    recall  f1-score   support\n",
      "\n",
      "           0       0.00      0.00      0.00         8\n",
      "           1       0.78      0.52      0.62        56\n",
      "\n",
      "    accuracy                           0.45        64\n",
      "   macro avg       0.39      0.26      0.31        64\n",
      "weighted avg       0.69      0.45      0.55        64\n",
      "\n",
      "0.453125\n",
      "[[ 0  8]\n",
      " [27 29]]\n"
     ]
    }
   ],
   "source": [
    "CL_kmeans(X_train, X_test, y_train, y_test, 8)"
   ]
  },
  {
   "cell_type": "markdown",
   "metadata": {},
   "source": [
    "### Hyperparameter optimization of CL-k-means\n",
    "Tune \"k\""
   ]
  },
  {
   "cell_type": "markdown",
   "metadata": {},
   "source": [
    "## ----- ADDED LINE BELOW 4371  Python is unable to find the skopt module because it hasn't been installed yet. -----"
   ]
  },
  {
   "cell_type": "code",
   "execution_count": 95,
   "metadata": {},
   "outputs": [
    {
     "name": "stdout",
     "output_type": "stream",
     "text": [
      "Requirement already satisfied: numpy in c:\\users\\logan\\anaconda3\\envs\\myenv\\lib\\site-packages (1.26.4)\n",
      "Requirement already satisfied: scikit-optimize in c:\\users\\logan\\anaconda3\\envs\\myenv\\lib\\site-packages (0.10.2)\n",
      "Requirement already satisfied: joblib>=0.11 in c:\\users\\logan\\anaconda3\\envs\\myenv\\lib\\site-packages (from scikit-optimize) (1.4.2)\n",
      "Requirement already satisfied: pyaml>=16.9 in c:\\users\\logan\\anaconda3\\envs\\myenv\\lib\\site-packages (from scikit-optimize) (24.9.0)\n",
      "Requirement already satisfied: numpy>=1.20.3 in c:\\users\\logan\\anaconda3\\envs\\myenv\\lib\\site-packages (from scikit-optimize) (1.26.4)\n",
      "Requirement already satisfied: scipy>=1.1.0 in c:\\users\\logan\\anaconda3\\envs\\myenv\\lib\\site-packages (from scikit-optimize) (1.14.1)\n",
      "Requirement already satisfied: scikit-learn>=1.0.0 in c:\\users\\logan\\anaconda3\\envs\\myenv\\lib\\site-packages (from scikit-optimize) (1.5.2)\n",
      "Requirement already satisfied: packaging>=21.3 in c:\\users\\logan\\anaconda3\\envs\\myenv\\lib\\site-packages (from scikit-optimize) (24.1)\n",
      "Requirement already satisfied: PyYAML in c:\\users\\logan\\anaconda3\\envs\\myenv\\lib\\site-packages (from pyaml>=16.9->scikit-optimize) (6.0.2)\n",
      "Requirement already satisfied: threadpoolctl>=3.1.0 in c:\\users\\logan\\anaconda3\\envs\\myenv\\lib\\site-packages (from scikit-learn>=1.0.0->scikit-optimize) (3.5.0)\n"
     ]
    }
   ],
   "source": [
    "!pip install numpy\n",
    "!pip install --upgrade scikit-optimize"
   ]
  },
  {
   "cell_type": "code",
   "execution_count": 96,
   "metadata": {},
   "outputs": [
    {
     "name": "stdout",
     "output_type": "stream",
     "text": [
      "scikit-optimize version: 0.10.2\n",
      "NumPy version: 1.26.4\n"
     ]
    }
   ],
   "source": [
    "import skopt\n",
    "import numpy as np\n",
    "np.int = int\n",
    "print(f\"scikit-optimize version: {skopt.__version__}\")\n",
    "print(f\"NumPy version: {np.__version__}\")"
   ]
  },
  {
   "cell_type": "code",
   "execution_count": 97,
   "metadata": {
    "scrolled": true
   },
   "outputs": [
    {
     "name": "stdout",
     "output_type": "stream",
     "text": [
      "30 0.453125\n",
      "43 0.875\n",
      "43 0.015625\n",
      "43 0.875\n",
      "32 0.875\n",
      "20 0.453125\n",
      "16 0.890625\n",
      "5 0.875\n",
      "15 0.453125\n",
      "25 0.453125\n",
      "42 0.453125\n",
      "8 0.875\n",
      "8 0.875\n",
      "7 0.453125\n",
      "2 0.875\n",
      "4 0.875\n",
      "10 0.875\n",
      "38 0.453125\n",
      "3 0.875\n",
      "11 0.875\n",
      "Best score=0.8906\n",
      "Best parameters: n_clusters=16\n",
      "5.218796014785767\n"
     ]
    }
   ],
   "source": [
    "#Hyperparameter optimization by BO-GP\n",
    "from skopt.space import Real, Integer\n",
    "from skopt.utils import use_named_args\n",
    "from sklearn import metrics\n",
    "from sklearn.cluster import MiniBatchKMeans # 4371 ADDED TO FIX ERROR OF minibatchkmeans NOT BEING IMPORTED\n",
    "\n",
    "space  = [Integer(2, 50, name='n_clusters')]\n",
    "@use_named_args(space)\n",
    "def objective(**params):\n",
    "    km_cluster = MiniBatchKMeans(batch_size=100, **params)\n",
    "    n=params['n_clusters']\n",
    "    \n",
    "    result = km_cluster.fit_predict(X_train)\n",
    "    result2 = km_cluster.predict(X_test)\n",
    "\n",
    "    count=0\n",
    "    a=np.zeros(n)\n",
    "    b=np.zeros(n)\n",
    "    for v in range(0,n):\n",
    "        for i in range(0,len(y_train)):\n",
    "            if result[i]==v:\n",
    "                if y_train[i]==1:\n",
    "                    a[v]=a[v]+1\n",
    "                else:\n",
    "                    b[v]=b[v]+1\n",
    "    list1=[]\n",
    "    list2=[]\n",
    "    for v in range(0,n):\n",
    "        if a[v]<=b[v]:\n",
    "            list1.append(v)\n",
    "        else: \n",
    "            list2.append(v)\n",
    "    for v in range(0,len(y_test)):\n",
    "        if result2[v] in list1:\n",
    "            result2[v]=0\n",
    "        elif result2[v] in list2:\n",
    "            result2[v]=1\n",
    "        else:\n",
    "            print(\"-1\")\n",
    "    cm=metrics.accuracy_score(y_test,result2)\n",
    "    print(str(n)+\" \"+str(cm))\n",
    "    return (1-cm)\n",
    "from skopt import gp_minimize\n",
    "import time\n",
    "t1=time.time()\n",
    "try:\n",
    "    res_gp = gp_minimize(objective, space, n_calls=20, random_state=0)\n",
    "    print(\"Best score=%.4f\" % (1 - res_gp.fun))\n",
    "    print(\"Best parameters: n_clusters=%d\" % res_gp.x[0])\n",
    "except Exception as e:\n",
    "    print(f\"An error occurred: {e}\")\n",
    "t2 = time.time()\n",
    "print(t2 - t1)"
   ]
  },
  {
   "cell_type": "code",
   "execution_count": 98,
   "metadata": {},
   "outputs": [
    {
     "name": "stdout",
     "output_type": "stream",
     "text": [
      "5 0.875                                                                                                                \n",
      "24 0.453125                                                                                                            \n",
      "23 0.453125                                                                                                            \n",
      "21 0.453125                                                                                                            \n",
      "33 0.453125                                                                                                            \n",
      "3 0.875                                                                                                                \n",
      "46 0.578125                                                                                                            \n",
      "14 0.734375                                                                                                            \n",
      "34 0.46875                                                                                                             \n",
      "42 0.875                                                                                                               \n",
      "7 0.875                                                                                                                \n",
      "12 0.453125                                                                                                            \n",
      "17 0.453125                                                                                                            \n",
      "16 0.875                                                                                                               \n",
      "47 0.875                                                                                                               \n",
      "34 0.875                                                                                                               \n",
      "25 0.875                                                                                                               \n",
      "16 0.453125                                                                                                            \n",
      "41 0.53125                                                                                                             \n",
      "14 0.453125                                                                                                            \n",
      "100%|█████████████████████████████████████████████████████████████| 20/20 [00:03<00:00,  5.50trial/s, best loss: 0.125]\n",
      "Random Forest: Hyperopt estimated optimum {'n_clusters': 5.0}\n"
     ]
    }
   ],
   "source": [
    "#Hyperparameter optimization by BO-TPE\n",
    "from hyperopt import hp, fmin, tpe, STATUS_OK, Trials\n",
    "from sklearn.model_selection import cross_val_score, StratifiedKFold\n",
    "from sklearn.cluster import MiniBatchKMeans\n",
    "from sklearn import metrics\n",
    "\n",
    "def objective(params):\n",
    "    params = {\n",
    "        'n_clusters': int(params['n_clusters']), \n",
    "    }\n",
    "    km_cluster = MiniBatchKMeans(batch_size=100, **params)\n",
    "    n=params['n_clusters']\n",
    "    \n",
    "    result = km_cluster.fit_predict(X_train)\n",
    "    result2 = km_cluster.predict(X_test)\n",
    "\n",
    "    count=0\n",
    "    a=np.zeros(n)\n",
    "    b=np.zeros(n)\n",
    "    for v in range(0,n):\n",
    "        for i in range(0,len(y_train)):\n",
    "            if result[i]==v:\n",
    "                if y_train[i]==1:\n",
    "                    a[v]=a[v]+1\n",
    "                else:\n",
    "                    b[v]=b[v]+1\n",
    "    list1=[]\n",
    "    list2=[]\n",
    "    for v in range(0,n):\n",
    "        if a[v]<=b[v]:\n",
    "            list1.append(v)\n",
    "        else: \n",
    "            list2.append(v)\n",
    "    for v in range(0,len(y_test)):\n",
    "        if result2[v] in list1:\n",
    "            result2[v]=0\n",
    "        elif result2[v] in list2:\n",
    "            result2[v]=1\n",
    "        else:\n",
    "            print(\"-1\")\n",
    "    score=metrics.accuracy_score(y_test,result2)\n",
    "    print(str(params['n_clusters'])+\" \"+str(score))\n",
    "    return {'loss':1-score, 'status': STATUS_OK }\n",
    "space = {\n",
    "    'n_clusters': hp.quniform('n_clusters', 2, 50, 1),\n",
    "}\n",
    "\n",
    "best = fmin(fn=objective,\n",
    "            space=space,\n",
    "            algo=tpe.suggest,\n",
    "            max_evals=20)\n",
    "print(\"Random Forest: Hyperopt estimated optimum {}\".format(best))"
   ]
  },
  {
   "cell_type": "code",
   "execution_count": 99,
   "metadata": {},
   "outputs": [
    {
     "name": "stdout",
     "output_type": "stream",
     "text": [
      "              precision    recall  f1-score   support\n",
      "\n",
      "           0       0.00      0.00      0.00         8\n",
      "           1       0.78      0.52      0.62        56\n",
      "\n",
      "    accuracy                           0.45        64\n",
      "   macro avg       0.39      0.26      0.31        64\n",
      "weighted avg       0.69      0.45      0.55        64\n",
      "\n",
      "0.453125\n",
      "[[ 0  8]\n",
      " [27 29]]\n"
     ]
    }
   ],
   "source": [
    "CL_kmeans(X_train, X_test, y_train, y_test, 16)"
   ]
  },
  {
   "cell_type": "markdown",
   "metadata": {},
   "source": [
    "### Apply the CL-k-means model with biased classifiers"
   ]
  },
  {
   "cell_type": "code",
   "execution_count": 100,
   "metadata": {},
   "outputs": [],
   "source": [
    "# Only a sample code to show the logic. It needs to work on the entire dataset to generate sufficient training samples for biased classifiers\n",
    "def Anomaly_IDS(X_train, X_test, y_train, y_test,n,b=100):\n",
    "    # CL-kmeans\n",
    "    km_cluster = MiniBatchKMeans(n_clusters=n,batch_size=b)\n",
    "    result = km_cluster.fit_predict(X_train)\n",
    "    result2 = km_cluster.predict(X_test)\n",
    "\n",
    "    count=0\n",
    "    a=np.zeros(n)\n",
    "    b=np.zeros(n)\n",
    "    for v in range(0,n):\n",
    "        for i in range(0,len(y_train)):\n",
    "            if result[i]==v:\n",
    "                if y_train[i]==1:\n",
    "                    a[v]=a[v]+1\n",
    "                else:\n",
    "                    b[v]=b[v]+1\n",
    "    list1=[]\n",
    "    list2=[]\n",
    "    for v in range(0,n):\n",
    "        if a[v]<=b[v]:\n",
    "            list1.append(v)\n",
    "        else: \n",
    "            list2.append(v)\n",
    "    for v in range(0,len(y_test)):\n",
    "        if result2[v] in list1:\n",
    "            result2[v]=0\n",
    "        elif result2[v] in list2:\n",
    "            result2[v]=1\n",
    "        else:\n",
    "            print(\"-1\")\n",
    "    print(classification_report(y_test, result2))\n",
    "    cm=confusion_matrix(y_test,result2)\n",
    "    acc=metrics.accuracy_score(y2,result2)\n",
    "    print(str(acc))\n",
    "    print(cm)\n",
    "    \n",
    "    #Biased classifier construction\n",
    "    count=0\n",
    "    print(len(y))\n",
    "    a=np.zeros(n)\n",
    "    b=np.zeros(n)\n",
    "    FNL=[]\n",
    "    FPL=[]\n",
    "    for v in range(0,n):\n",
    "        al=[]\n",
    "        bl=[]\n",
    "        for i in range(0,len(y)):   \n",
    "            if result[i]==v:        \n",
    "                if y[i]==1:        #label 1\n",
    "                    a[v]=a[v]+1\n",
    "                    al.append(i)\n",
    "                else:             #label 0\n",
    "                    b[v]=b[v]+1\n",
    "                    bl.append(i)\n",
    "        if a[v]<=b[v]:\n",
    "            FNL.extend(al)\n",
    "        else:\n",
    "            FPL.extend(bl)\n",
    "        #print(str(v)+\"=\"+str(a[v]/(a[v]+b[v])))\n",
    "        \n",
    "    dffp=df.iloc[FPL, :]\n",
    "    dffn=df.iloc[FNL, :]\n",
    "    dfva0=df[df['Label']==0]\n",
    "    dfva1=df[df['Label']==1]\n",
    "    \n",
    "    dffpp=dfva1.sample(n=None, frac=len(FPL)/dfva1.shape[0], replace=False, weights=None, random_state=None, axis=0)\n",
    "    dffnp=dfva0.sample(n=None, frac=len(FNL)/dfva0.shape[0], replace=False, weights=None, random_state=None, axis=0)\n",
    "    \n",
    "    dffp_f=pd.concat([dffp, dffpp])\n",
    "    dffn_f=pd.concat([dffn, dffnp])\n",
    "    \n",
    "    Xp = dffp_f.drop(['Label'],axis=1)  \n",
    "    yp = dffp_f.iloc[:, -1].values.reshape(-1,1)\n",
    "    yp=np.ravel(yp)\n",
    "\n",
    "    Xn = dffn_f.drop(['Label'],axis=1)  \n",
    "    yn = dffn_f.iloc[:, -1].values.reshape(-1,1)\n",
    "    yn=np.ravel(yn)\n",
    "    \n",
    "    rfp = RandomForestClassifier(random_state = 0)\n",
    "    rfp.fit(Xp,yp)\n",
    "    rfn = RandomForestClassifier(random_state = 0)\n",
    "    rfn.fit(Xn,yn)\n",
    "\n",
    "    dffnn_f=pd.concat([dffn, dffnp])\n",
    "    \n",
    "    Xnn = dffn_f.drop(['Label'],axis=1)  \n",
    "    ynn = dffn_f.iloc[:, -1].values.reshape(-1,1)\n",
    "    ynn=np.ravel(ynn)\n",
    "\n",
    "    rfnn = RandomForestClassifier(random_state = 0)\n",
    "    rfnn.fit(Xnn,ynn)\n",
    "\n",
    "    X2p = df2.drop(['Label'],axis=1) \n",
    "    y2p = df2.iloc[:, -1].values.reshape(-1,1)\n",
    "    y2p=np.ravel(y2p)\n",
    "\n",
    "    result2 = km_cluster.predict(X2p)\n",
    "\n",
    "    count=0\n",
    "    a=np.zeros(n)\n",
    "    b=np.zeros(n)\n",
    "    for v in range(0,n):\n",
    "        for i in range(0,len(y)):\n",
    "            if result[i]==v:\n",
    "                if y[i]==1:\n",
    "                    a[v]=a[v]+1\n",
    "                else:\n",
    "                    b[v]=b[v]+1\n",
    "    list1=[]\n",
    "    list2=[]\n",
    "    l1=[]\n",
    "    l0=[]\n",
    "    for v in range(0,n):\n",
    "        if a[v]<=b[v]:\n",
    "            list1.append(v)\n",
    "        else: \n",
    "            list2.append(v)\n",
    "    for v in range(0,len(y2p)):\n",
    "        if result2[v] in list1:\n",
    "            result2[v]=0\n",
    "            l0.append(v)\n",
    "        elif result2[v] in list2:\n",
    "            result2[v]=1\n",
    "            l1.append(v)\n",
    "        else:\n",
    "            print(\"-1\")\n",
    "    print(classification_report(y2p, result2))\n",
    "    cm=confusion_matrix(y2p,result2)\n",
    "    print(cm)"
   ]
  },
  {
   "cell_type": "markdown",
   "metadata": {},
   "source": [
    "95% of the code has been shared, and the remaining 5% is retained for future extension.  \n",
    "Thank you for your interest and more details are in the paper."
   ]
  }
 ],
 "metadata": {
  "anaconda-cloud": {},
  "kernelspec": {
   "display_name": "Python 3 (ipykernel)",
   "language": "python",
   "name": "python3"
  },
  "language_info": {
   "codemirror_mode": {
    "name": "ipython",
    "version": 3
   },
   "file_extension": ".py",
   "mimetype": "text/x-python",
   "name": "python",
   "nbconvert_exporter": "python",
   "pygments_lexer": "ipython3",
   "version": "3.10.15"
  }
 },
 "nbformat": 4,
 "nbformat_minor": 4
}
